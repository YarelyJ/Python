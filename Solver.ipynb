{
 "cells": [
  {
   "cell_type": "code",
   "execution_count": 10,
   "id": "3de72bc3-7032-4347-9fe7-9bb3e5bb2176",
   "metadata": {},
   "outputs": [],
   "source": [
    "import pulp"
   ]
  },
  {
   "cell_type": "markdown",
   "id": "eff78e06-a59c-4d20-919f-ed50d7c01403",
   "metadata": {},
   "source": [
    "#### Define the problem "
   ]
  },
  {
   "cell_type": "code",
   "execution_count": 11,
   "id": "0b1f4922-1c60-4995-a4f4-a03d703703d9",
   "metadata": {},
   "outputs": [],
   "source": [
    "problem=pulp.LpProblem(\"Transportation problem\",pulp.LpMinimize)"
   ]
  },
  {
   "cell_type": "markdown",
   "id": "f75e448a-ecfd-43e1-b372-40706f6f08a3",
   "metadata": {},
   "source": [
    "#### Supply and Demand"
   ]
  },
  {
   "cell_type": "code",
   "execution_count": 12,
   "id": "75130c58-78e3-47db-9c85-2d52ae62bb73",
   "metadata": {},
   "outputs": [],
   "source": [
    "supply = [15, 25,5] # supply at each sourse\n",
    "demand = [5, 15, 15, 10] # demand at each destination"
   ]
  },
  {
   "cell_type": "markdown",
   "id": "1a021ba8-4470-4b79-a17c-79d2821f6b57",
   "metadata": {},
   "source": [
    "#### Costs Matrix"
   ]
  },
  {
   "cell_type": "code",
   "execution_count": 13,
   "id": "910a95b2-e0dd-487c-8a6d-7c9fba1a709f",
   "metadata": {},
   "outputs": [],
   "source": [
    "costs= [\n",
    "    [10, 0, 20, 11],\n",
    "    [12, 7, 9, 20],\n",
    "    [0, 14, 16, 18]\n",
    "]"
   ]
  },
  {
   "cell_type": "markdown",
   "id": "f5f8a970-2fa4-40fe-a5b5-f97f98181ff3",
   "metadata": {},
   "source": [
    "#### Create desition variables"
   ]
  },
  {
   "cell_type": "code",
   "execution_count": 14,
   "id": "9f7982cb-23c3-495d-beaa-fef1fdbe3572",
   "metadata": {},
   "outputs": [],
   "source": [
    "routes = [(i,j) for i in range (len(supply)) for j in range (len(demand))]\n",
    "x = pulp.LpVariable.dicts(\"Routes: \", routes, lowBound=0,cat='continuous')"
   ]
  },
  {
   "cell_type": "markdown",
   "id": "14cf78f6-c89b-457e-9bf6-99045cdef221",
   "metadata": {},
   "source": [
    "#### Objetive function Minimize total costs"
   ]
  },
  {
   "cell_type": "code",
   "execution_count": 15,
   "id": "af5f3019-8141-4971-a2ec-ee6c30522495",
   "metadata": {},
   "outputs": [],
   "source": [
    "problem += pulp.lpSum([x[i,j]*costs[i][j] for (i,j) in routes]), \"Total_Cost\""
   ]
  },
  {
   "cell_type": "markdown",
   "id": "30ca9344-5003-48d8-9e68-57abeaad9ace",
   "metadata": {},
   "source": [
    "#### Supply and Contraints"
   ]
  },
  {
   "cell_type": "code",
   "execution_count": 16,
   "id": "561f8ed5-923c-4234-8734-edb8a0435c98",
   "metadata": {},
   "outputs": [],
   "source": [
    "for i in range (len(supply)):\n",
    "    problem += pulp.lpSum([x[i,j] for j in range(len(demand))]) <= supply[i], f\"Supply_{i+1}\""
   ]
  },
  {
   "cell_type": "markdown",
   "id": "03bf3cab-cdcb-489e-a70b-4d29868dce82",
   "metadata": {},
   "source": [
    "#### Demand Contraints"
   ]
  },
  {
   "cell_type": "code",
   "execution_count": 17,
   "id": "3650de8b-748d-4b5b-854a-1ccbfab7b0be",
   "metadata": {},
   "outputs": [],
   "source": [
    "for j in range (len(demand)):\n",
    "    problem += pulp.lpSum([x[i,j] for i in range(len(supply))]) >= demand[j], f\"Demand_{j+1}\""
   ]
  },
  {
   "cell_type": "markdown",
   "id": "9f2827de-c879-47d2-a50c-6f02e6027b95",
   "metadata": {},
   "source": [
    "#### Solve the Problem"
   ]
  },
  {
   "cell_type": "code",
   "execution_count": 1,
   "id": "43b6cda8-5b78-45b1-9038-ec1213545a0b",
   "metadata": {},
   "outputs": [
    {
     "ename": "NameError",
     "evalue": "name 'problem' is not defined",
     "output_type": "error",
     "traceback": [
      "\u001b[1;31m---------------------------------------------------------------------------\u001b[0m",
      "\u001b[1;31mNameError\u001b[0m                                 Traceback (most recent call last)",
      "Cell \u001b[1;32mIn[1], line 1\u001b[0m\n\u001b[1;32m----> 1\u001b[0m problem\u001b[38;5;241m.\u001b[39msolve()\n",
      "\u001b[1;31mNameError\u001b[0m: name 'problem' is not defined"
     ]
    }
   ],
   "source": [
    "problem.solve()"
   ]
  },
  {
   "cell_type": "markdown",
   "id": "3ee05c9a-03d7-486b-bae5-d85aa43aa8f4",
   "metadata": {},
   "source": [
    "#### Print the problem"
   ]
  },
  {
   "cell_type": "code",
   "execution_count": 23,
   "id": "16667835-2bf2-41f7-884e-be2d95387898",
   "metadata": {},
   "outputs": [
    {
     "name": "stdout",
     "output_type": "stream",
     "text": [
      "Status:  Not Solved\n",
      "Transport [x[i,j].varValue] unites from Supplier 1 to Consumer 1\n",
      "Transport [x[i,j].varValue] unites from Supplier 1 to Consumer 2\n",
      "Transport [x[i,j].varValue] unites from Supplier 1 to Consumer 3\n",
      "Transport [x[i,j].varValue] unites from Supplier 1 to Consumer 4\n",
      "Transport [x[i,j].varValue] unites from Supplier 2 to Consumer 1\n",
      "Transport [x[i,j].varValue] unites from Supplier 2 to Consumer 2\n",
      "Transport [x[i,j].varValue] unites from Supplier 2 to Consumer 3\n",
      "Transport [x[i,j].varValue] unites from Supplier 2 to Consumer 4\n",
      "Transport [x[i,j].varValue] unites from Supplier 3 to Consumer 1\n",
      "Transport [x[i,j].varValue] unites from Supplier 3 to Consumer 2\n",
      "Transport [x[i,j].varValue] unites from Supplier 3 to Consumer 3\n",
      "Transport [x[i,j].varValue] unites from Supplier 3 to Consumer 4\n",
      "Total_Cost: None\n"
     ]
    }
   ],
   "source": [
    "print(\"Status: \", pulp.LpStatus[problem.status])\n",
    "for (i,j) in routes:\n",
    "    print (f\"Transport [x[i,j].varValue] unites from Supplier {i+1} to Consumer {j+1}\")\n",
    "\n",
    "print(f\"Total_Cost: {pulp.value(problem.objective)}\") "
   ]
  },
  {
   "cell_type": "code",
   "execution_count": null,
   "id": "dfd3ffb4-b64f-4a0a-9475-636eb0eab39a",
   "metadata": {},
   "outputs": [],
   "source": []
  }
 ],
 "metadata": {
  "kernelspec": {
   "display_name": "Python 3 (ipykernel)",
   "language": "python",
   "name": "python3"
  },
  "language_info": {
   "codemirror_mode": {
    "name": "ipython",
    "version": 3
   },
   "file_extension": ".py",
   "mimetype": "text/x-python",
   "name": "python",
   "nbconvert_exporter": "python",
   "pygments_lexer": "ipython3",
   "version": "3.12.3"
  }
 },
 "nbformat": 4,
 "nbformat_minor": 5
}
