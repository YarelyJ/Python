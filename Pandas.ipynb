{
 "cells": [
  {
   "cell_type": "markdown",
   "id": "a464fa20-57a9-4307-ad4f-721dd6e399cd",
   "metadata": {},
   "source": [
    "# Introducción a Pandas\n",
    "\n",
    "[Pandas](https://pandas.pydate.org) es una biblioteca que proporciona estructuras de datos y herramientas de análisis de datos de alto rendimiento y faciles de usar.\n",
    "* La estructura de datos principal es el DataFrame que puede considerarse como una tabla 2d en Menoria (como una hoja de cálculo, con nombres de columna y etiquetas de la fila).\n",
    "* Muchas funciones disponibles en excel están disponibles mediante programación, como crear tablas dinamicas, calcular columnas basadas en otras columnas, trazar graficos, etc.\n",
    "* Proporciona un alto rendimiento para manipular (unir, dividir, modificar, ...), grandes conjuntos de datos. "
   ]
  },
  {
   "cell_type": "markdown",
   "id": "34d29a2d-f02b-47a7-9ad0-3334ca2786ee",
   "metadata": {},
   "source": [
    "## Import"
   ]
  },
  {
   "cell_type": "code",
   "execution_count": 1,
   "id": "3d128adc-1053-4a95-bce1-fe764a53c2c5",
   "metadata": {},
   "outputs": [],
   "source": [
    "import pandas as pd"
   ]
  },
  {
   "cell_type": "markdown",
   "id": "26b06486-313d-4f7f-ab45-ec9476754084",
   "metadata": {},
   "source": [
    "#### Estructura de Datos en Pandas\n",
    "La biblioteca Pandas, de manera genérica, contiene las siguientes estucturas de datos:\n",
    "* **Series**: Array de una dimención.\n",
    "* **DataFrame**: Se corresponde con una tabla de dos dimenciones.\n",
    "* **Panel**: Es el similar a un diccionario de DataFrames."
   ]
  },
  {
   "cell_type": "code",
   "execution_count": 2,
   "id": "88739a75-0da7-4a15-baa5-91a0d0b37c99",
   "metadata": {},
   "outputs": [
    {
     "name": "stdout",
     "output_type": "stream",
     "text": [
      "0     2\n",
      "1     4\n",
      "2     6\n",
      "3     8\n",
      "4    10\n",
      "dtype: int64\n"
     ]
    }
   ],
   "source": [
    "# Creación de un objeto llaamado series \n",
    "S = pd.Series([2, 4, 6, 8, 10])\n",
    "print(S)"
   ]
  },
  {
   "cell_type": "code",
   "execution_count": 3,
   "id": "84f6f54b-9e9e-4f44-b998-791657b87c89",
   "metadata": {},
   "outputs": [
    {
     "name": "stdout",
     "output_type": "stream",
     "text": [
      "Nadia     165\n",
      "Adrian    190\n",
      "dtype: int64\n"
     ]
    }
   ],
   "source": [
    "# Crear un objeto series inicializandolo con algunos de los elemntos de un diccionario de Python\n",
    "Altura = {\"Quevin\": 176, \"Nadia\": 165, \"Yaret\": 160, \"Adrian\": 190}\n",
    "s = pd.Series(Altura, index = [\"Nadia\", \"Adrian\"])\n",
    "print(s)"
   ]
  },
  {
   "cell_type": "code",
   "execution_count": 4,
   "id": "db3e5bcf-bb82-4a90-a3a6-aa1e424f312c",
   "metadata": {},
   "outputs": [
    {
     "name": "stdout",
     "output_type": "stream",
     "text": [
      "Test1      34\n",
      "Tr¿est2    34\n",
      "Test3      34\n",
      "dtype: int64\n"
     ]
    }
   ],
   "source": [
    "# Creacion de un objeto Series inicializandolo con un escalar\n",
    "s = pd.Series(34, [\"Test1\", \"Tr¿est2\", \"Test3\"])\n",
    "print(s)"
   ]
  },
  {
   "cell_type": "markdown",
   "id": "d4fe804a-4064-45af-b28e-f2409dbf2297",
   "metadata": {},
   "source": [
    "### Acseso a elementos de un objeto Series\n",
    "Cada elemento en un objeto Series tiene un identificador único ue se denomina **index label**. "
   ]
  },
  {
   "cell_type": "code",
   "execution_count": 5,
   "id": "11050b1c-6d92-47a8-9a81-2d8befe188f5",
   "metadata": {},
   "outputs": [
    {
     "name": "stdout",
     "output_type": "stream",
     "text": [
      "Num1    2\n",
      "Num2    4\n",
      "Num3    6\n",
      "Num4    8\n",
      "dtype: int64\n"
     ]
    }
   ],
   "source": [
    "# Creación de un objeto Series\n",
    "s = pd.Series([2, 4, 6, 8], index = [\"Num1\", \"Num2\", \"Num3\", \"Num4\"])\n",
    "print(s)"
   ]
  },
  {
   "cell_type": "code",
   "execution_count": 6,
   "id": "47581612-3797-4222-a7f7-a24183df5667",
   "metadata": {},
   "outputs": [
    {
     "data": {
      "text/plain": [
       "6"
      ]
     },
     "execution_count": 6,
     "metadata": {},
     "output_type": "execute_result"
    }
   ],
   "source": [
    "# Acceder al tercer elemento del objeto\n",
    "s[\"Num3\"]"
   ]
  },
  {
   "cell_type": "code",
   "execution_count": 7,
   "id": "3ba5d75b-ceb6-4837-8191-31035c72bb62",
   "metadata": {},
   "outputs": [
    {
     "name": "stderr",
     "output_type": "stream",
     "text": [
      "C:\\Users\\ACER\\AppData\\Local\\Temp\\ipykernel_1372\\1516389347.py:2: FutureWarning: Series.__getitem__ treating keys as positions is deprecated. In a future version, integer keys will always be treated as labels (consistent with DataFrame behavior). To access a value by position, use `ser.iloc[pos]`\n",
      "  s[2]\n"
     ]
    },
    {
     "data": {
      "text/plain": [
       "6"
      ]
     },
     "execution_count": 7,
     "metadata": {},
     "output_type": "execute_result"
    }
   ],
   "source": [
    "# Tambien se puede acceder al elemento por posicion\n",
    "s[2]"
   ]
  },
  {
   "cell_type": "code",
   "execution_count": 8,
   "id": "93a42b71-acbd-47d9-9e15-0a40e777d8cb",
   "metadata": {},
   "outputs": [
    {
     "data": {
      "text/plain": [
       "6"
      ]
     },
     "execution_count": 8,
     "metadata": {},
     "output_type": "execute_result"
    }
   ],
   "source": [
    "# loc es la forma estandar de acceder a un elemento de un objeto Series por su atributo\n",
    "s.loc[\"Num3\"]"
   ]
  },
  {
   "cell_type": "code",
   "execution_count": 9,
   "id": "d9553942-77e7-4575-ba67-485d28b14cf5",
   "metadata": {},
   "outputs": [
    {
     "data": {
      "text/plain": [
       "6"
      ]
     },
     "execution_count": 9,
     "metadata": {},
     "output_type": "execute_result"
    }
   ],
   "source": [
    "# iloc es la forma estandar de acceder a un elemento de un objeto Series por posición\n",
    "s.iloc[2]"
   ]
  },
  {
   "cell_type": "code",
   "execution_count": 10,
   "id": "446ccebc-7e5a-4063-96a0-38df1b596d8e",
   "metadata": {},
   "outputs": [
    {
     "data": {
      "text/plain": [
       "Num3    6\n",
       "Num4    8\n",
       "dtype: int64"
      ]
     },
     "execution_count": 10,
     "metadata": {},
     "output_type": "execute_result"
    }
   ],
   "source": [
    "# Accediendo al segundo y tercer elemento por posición\n",
    "s.iloc[2:4]"
   ]
  },
  {
   "cell_type": "markdown",
   "id": "8e918989-75dd-4d47-bfdb-38c0095246cc",
   "metadata": {},
   "source": [
    "### Operaciones Aritméticas con Series"
   ]
  },
  {
   "cell_type": "code",
   "execution_count": 11,
   "id": "cc72cf83-1489-4056-9526-796a2663167f",
   "metadata": {},
   "outputs": [
    {
     "name": "stdout",
     "output_type": "stream",
     "text": [
      "0     2\n",
      "1     4\n",
      "2     6\n",
      "3     8\n",
      "4    10\n",
      "dtype: int64\n"
     ]
    }
   ],
   "source": [
    "# Creoción de un objeto Series\n",
    "s = pd.Series([2, 4, 6, 8, 10])\n",
    "print(s)"
   ]
  },
  {
   "cell_type": "code",
   "execution_count": 12,
   "id": "c390d7be-57af-4eb1-8cd3-bd6f2543667d",
   "metadata": {},
   "outputs": [
    {
     "data": {
      "text/plain": [
       "30"
      ]
     },
     "execution_count": 12,
     "metadata": {},
     "output_type": "execute_result"
    }
   ],
   "source": [
    "# Los objetos Series son similares y compatibles con los arrays de Numpy\n",
    "import numpy as np\n",
    "# Ufunc de Numpy para sumar los elementos de un arreglo\n",
    "np.sum(s)"
   ]
  },
  {
   "cell_type": "code",
   "execution_count": 13,
   "id": "72cec5f2-1b8e-444f-8deb-5b2bc09fc749",
   "metadata": {},
   "outputs": [
    {
     "data": {
      "text/plain": [
       "0     4\n",
       "1     8\n",
       "2    12\n",
       "3    16\n",
       "4    20\n",
       "dtype: int64"
      ]
     },
     "execution_count": 13,
     "metadata": {},
     "output_type": "execute_result"
    }
   ],
   "source": [
    "# El resto de operaciones aritmeticas de Numpy sobre arreglos tambien son posibles \n",
    "# Para mas información visita la arg de Numpy\n",
    "s * 2"
   ]
  },
  {
   "cell_type": "markdown",
   "id": "9316ffa4-ac27-457b-87ea-0bd9e99a546c",
   "metadata": {},
   "source": [
    "### Representación Grafica de un objeto Series"
   ]
  },
  {
   "cell_type": "code",
   "execution_count": 14,
   "id": "f8bef525-ca6d-4ee6-b0e9-832dbcb4cd65",
   "metadata": {},
   "outputs": [
    {
     "data": {
      "text/plain": [
       "0     4.4\n",
       "1     5.1\n",
       "2     6.1\n",
       "3     6.2\n",
       "4     6.1\n",
       "5     6.1\n",
       "6     5.7\n",
       "7     5.2\n",
       "8     4.7\n",
       "9     4.1\n",
       "10    3.9\n",
       "Name: Temperaturas, dtype: float64"
      ]
     },
     "execution_count": 14,
     "metadata": {},
     "output_type": "execute_result"
    }
   ],
   "source": [
    "# Creacion de un objeto serie denominado Temperaturas\n",
    "temperaturas = [4.4, 5.1, 6.1, 6.2, 6.1, 6.1, 5.7, 5.2, 4.7, 4.1, 3.9]\n",
    "s = pd.Series(temperaturas, name = \"Temperaturas\")\n",
    "s"
   ]
  },
  {
   "cell_type": "code",
   "execution_count": 15,
   "id": "3448c9b4-dbaf-4196-80fe-32b09a1cfeb6",
   "metadata": {},
   "outputs": [
    {
     "data": {
      "image/png": "[encoded data removed]",
      "text/plain": [
       "<Figure size 640x480 with 1 Axes>"
      ]
     },
     "metadata": {},
     "output_type": "display_data"
    }
   ],
   "source": [
    "# Representar de manera grafica el objeto Series\n",
    "%matplotlib inline\n",
    "import matplotlib.pyplot as ptl\n",
    "s.plot()\n",
    "ptl.show()"
   ]
  },
  {
   "cell_type": "markdown",
   "id": "05ec720f-1339-404d-8a94-1f7ef0c2c3ea",
   "metadata": {},
   "source": [
    "### Creación  de un Objeto DataFrame"
   ]
  },
  {
   "cell_type": "code",
   "execution_count": 16,
   "id": "a5821a8f-7bad-4500-9d4d-45109f9776c7",
   "metadata": {},
   "outputs": [
    {
     "data": {
      "text/html": [
       "<div>\n",
       "<style scoped>\n",
       "    .dataframe tbody tr th:only-of-type {\n",
       "        vertical-align: middle;\n",
       "    }\n",
       "\n",
       "    .dataframe tbody tr th {\n",
       "        vertical-align: top;\n",
       "    }\n",
       "\n",
       "    .dataframe thead th {\n",
       "        text-align: right;\n",
       "    }\n",
       "</style>\n",
       "<table border=\"1\" class=\"dataframe\">\n",
       "  <thead>\n",
       "    <tr style=\"text-align: right;\">\n",
       "      <th></th>\n",
       "      <th>Atura</th>\n",
       "      <th>Peso</th>\n",
       "    </tr>\n",
       "  </thead>\n",
       "  <tbody>\n",
       "    <tr>\n",
       "      <th>Nadia</th>\n",
       "      <td>NaN</td>\n",
       "      <td>55</td>\n",
       "    </tr>\n",
       "    <tr>\n",
       "      <th>Rubick</th>\n",
       "      <td>NaN</td>\n",
       "      <td>53</td>\n",
       "    </tr>\n",
       "    <tr>\n",
       "      <th>Kevin</th>\n",
       "      <td>NaN</td>\n",
       "      <td>65</td>\n",
       "    </tr>\n",
       "  </tbody>\n",
       "</table>\n",
       "</div>"
      ],
      "text/plain": [
       "       Atura  Peso\n",
       "Nadia    NaN    55\n",
       "Rubick   NaN    53\n",
       "Kevin    NaN    65"
      ]
     },
     "execution_count": 16,
     "metadata": {},
     "output_type": "execute_result"
    }
   ],
   "source": [
    "# Creación de un DataFrame inicializandolo con un diccionario de objetos Series\n",
    "personas = {\n",
    "    \"Peso\": pd.Series([65, 55, 90, 53], [\"Kevin\", \"Nadia\", \"Chiquis\", \"Rubick\"]),\n",
    "    \"Pandas\": pd.Series({\"Kevin\": 176, \"Nadia\": 165, \"Chiquis\": 190, \"Rubick\": 160}),\n",
    "    \"Hijos\": pd.Series([2, 3,], [\"Nadia\", \"Rubick\"])\n",
    "}\n",
    "\n",
    "df = pd.DataFrame(\n",
    "    personas, \n",
    "    columns = [\"Atura\", \"Peso\"],\n",
    "    index = [\"Nadia\", \"Rubick\", \"Kevin\"])\n",
    "df"
   ]
  },
  {
   "cell_type": "code",
   "execution_count": 17,
   "id": "a0b5d03b-1070-4b0b-ac1a-1c2c4f89bfa5",
   "metadata": {},
   "outputs": [
    {
     "data": {
      "text/html": [
       "<div>\n",
       "<style scoped>\n",
       "    .dataframe tbody tr th:only-of-type {\n",
       "        vertical-align: middle;\n",
       "    }\n",
       "\n",
       "    .dataframe tbody tr th {\n",
       "        vertical-align: top;\n",
       "    }\n",
       "\n",
       "    .dataframe thead th {\n",
       "        text-align: right;\n",
       "    }\n",
       "</style>\n",
       "<table border=\"1\" class=\"dataframe\">\n",
       "  <thead>\n",
       "    <tr style=\"text-align: right;\">\n",
       "      <th></th>\n",
       "      <th>Altura</th>\n",
       "      <th>Peso</th>\n",
       "    </tr>\n",
       "  </thead>\n",
       "  <tbody>\n",
       "    <tr>\n",
       "      <th>Eduardo</th>\n",
       "      <td>163</td>\n",
       "      <td>45</td>\n",
       "    </tr>\n",
       "    <tr>\n",
       "      <th>Alexis</th>\n",
       "      <td>166</td>\n",
       "      <td>48</td>\n",
       "    </tr>\n",
       "    <tr>\n",
       "      <th>Ariana</th>\n",
       "      <td>159</td>\n",
       "      <td>52</td>\n",
       "    </tr>\n",
       "    <tr>\n",
       "      <th>Angel</th>\n",
       "      <td>168</td>\n",
       "      <td>83</td>\n",
       "    </tr>\n",
       "  </tbody>\n",
       "</table>\n",
       "</div>"
      ],
      "text/plain": [
       "         Altura  Peso\n",
       "Eduardo     163    45\n",
       "Alexis      166    48\n",
       "Ariana      159    52\n",
       "Angel       168    83"
      ]
     },
     "execution_count": 17,
     "metadata": {},
     "output_type": "execute_result"
    }
   ],
   "source": [
    "# Crear un DataFrame e inicializarlo con un Diccionario de Python\n",
    "Personas = {\n",
    "    \"Altura\": {\"Eduardo\": 163, \"Alexis\": 166, \"Ariana\": 159, \"Angel\": 168},\n",
    "    \"Peso\": {\"Eduardo\": 45, \"Alexis\": 48, \"Ariana\": 52, \"Angel\": 83}}\n",
    "\n",
    "df = pd.DataFrame(Personas)\n",
    "df"
   ]
  },
  {
   "cell_type": "markdown",
   "id": "faee5679-d04c-4111-9b3c-b489c4f382bb",
   "metadata": {},
   "source": [
    "## Acceso a los Elementos de un DataFrame"
   ]
  },
  {
   "cell_type": "code",
   "execution_count": 18,
   "id": "77fd8502-11ed-4509-93bf-712494b1b939",
   "metadata": {},
   "outputs": [
    {
     "data": {
      "text/html": [
       "<div>\n",
       "<style scoped>\n",
       "    .dataframe tbody tr th:only-of-type {\n",
       "        vertical-align: middle;\n",
       "    }\n",
       "\n",
       "    .dataframe tbody tr th {\n",
       "        vertical-align: top;\n",
       "    }\n",
       "\n",
       "    .dataframe thead th {\n",
       "        text-align: right;\n",
       "    }\n",
       "</style>\n",
       "<table border=\"1\" class=\"dataframe\">\n",
       "  <thead>\n",
       "    <tr style=\"text-align: right;\">\n",
       "      <th></th>\n",
       "      <th>Peso</th>\n",
       "      <th>Altura</th>\n",
       "      <th>Hijos</th>\n",
       "    </tr>\n",
       "  </thead>\n",
       "  <tbody>\n",
       "    <tr>\n",
       "      <th>Chiquis</th>\n",
       "      <td>90</td>\n",
       "      <td>190</td>\n",
       "      <td>NaN</td>\n",
       "    </tr>\n",
       "    <tr>\n",
       "      <th>Kevin</th>\n",
       "      <td>65</td>\n",
       "      <td>176</td>\n",
       "      <td>NaN</td>\n",
       "    </tr>\n",
       "    <tr>\n",
       "      <th>Nadia</th>\n",
       "      <td>55</td>\n",
       "      <td>165</td>\n",
       "      <td>2.0</td>\n",
       "    </tr>\n",
       "    <tr>\n",
       "      <th>Rubick</th>\n",
       "      <td>53</td>\n",
       "      <td>160</td>\n",
       "      <td>3.0</td>\n",
       "    </tr>\n",
       "  </tbody>\n",
       "</table>\n",
       "</div>"
      ],
      "text/plain": [
       "         Peso  Altura  Hijos\n",
       "Chiquis    90     190    NaN\n",
       "Kevin      65     176    NaN\n",
       "Nadia      55     165    2.0\n",
       "Rubick     53     160    3.0"
      ]
     },
     "execution_count": 18,
     "metadata": {},
     "output_type": "execute_result"
    }
   ],
   "source": [
    "# Crear un nuevo DataFrame Ieiilizrlo o u Diiorio de Objetos series\n",
    "personas = {\n",
    "    \"Peso\": pd.Series([65, 55, 90, 53], [\"Kevin\", \"Nadia\", \"Chiquis\", \"Rubick\"]),\n",
    "    \"Altura\": pd.Series({\"Kevin\": 176, \"Nadia\": 165, \"Chiquis\": 190, \"Rubick\": 160}),\n",
    "    \"Hijos\": pd.Series([2, 3,], [\"Nadia\", \"Rubick\"])\n",
    "}\n",
    "\n",
    "df = pd.DataFrame(personas)\n",
    "df"
   ]
  },
  {
   "cell_type": "markdown",
   "id": "fe8010a9-f1b9-41b7-b6fb-a954bc699fdb",
   "metadata": {},
   "source": [
    "## Acceso a los elementos de las columnas del DataFrame"
   ]
  },
  {
   "cell_type": "code",
   "execution_count": 19,
   "id": "6f75c221-dc1a-4c4b-bce2-6ab0b909d158",
   "metadata": {},
   "outputs": [
    {
     "data": {
      "text/plain": [
       "Chiquis    90\n",
       "Kevin      65\n",
       "Nadia      55\n",
       "Rubick     53\n",
       "Name: Peso, dtype: int64"
      ]
     },
     "execution_count": 19,
     "metadata": {},
     "output_type": "execute_result"
    }
   ],
   "source": [
    "df[\"Peso\"]"
   ]
  },
  {
   "cell_type": "code",
   "execution_count": 20,
   "id": "93258a65-90aa-489d-bc43-a7e9f905aa7c",
   "metadata": {},
   "outputs": [
    {
     "data": {
      "text/html": [
       "<div>\n",
       "<style scoped>\n",
       "    .dataframe tbody tr th:only-of-type {\n",
       "        vertical-align: middle;\n",
       "    }\n",
       "\n",
       "    .dataframe tbody tr th {\n",
       "        vertical-align: top;\n",
       "    }\n",
       "\n",
       "    .dataframe thead th {\n",
       "        text-align: right;\n",
       "    }\n",
       "</style>\n",
       "<table border=\"1\" class=\"dataframe\">\n",
       "  <thead>\n",
       "    <tr style=\"text-align: right;\">\n",
       "      <th></th>\n",
       "      <th>Peso</th>\n",
       "      <th>Altura</th>\n",
       "    </tr>\n",
       "  </thead>\n",
       "  <tbody>\n",
       "    <tr>\n",
       "      <th>Chiquis</th>\n",
       "      <td>90</td>\n",
       "      <td>190</td>\n",
       "    </tr>\n",
       "    <tr>\n",
       "      <th>Kevin</th>\n",
       "      <td>65</td>\n",
       "      <td>176</td>\n",
       "    </tr>\n",
       "    <tr>\n",
       "      <th>Nadia</th>\n",
       "      <td>55</td>\n",
       "      <td>165</td>\n",
       "    </tr>\n",
       "    <tr>\n",
       "      <th>Rubick</th>\n",
       "      <td>53</td>\n",
       "      <td>160</td>\n",
       "    </tr>\n",
       "  </tbody>\n",
       "</table>\n",
       "</div>"
      ],
      "text/plain": [
       "         Peso  Altura\n",
       "Chiquis    90     190\n",
       "Kevin      65     176\n",
       "Nadia      55     165\n",
       "Rubick     53     160"
      ]
     },
     "execution_count": 20,
     "metadata": {},
     "output_type": "execute_result"
    }
   ],
   "source": [
    "df[[\"Peso\", \"Altura\"]]"
   ]
  },
  {
   "cell_type": "code",
   "execution_count": 21,
   "id": "7a54ddab-aab9-48da-a2c5-366d17bf167b",
   "metadata": {},
   "outputs": [
    {
     "data": {
      "text/html": [
       "<div>\n",
       "<style scoped>\n",
       "    .dataframe tbody tr th:only-of-type {\n",
       "        vertical-align: middle;\n",
       "    }\n",
       "\n",
       "    .dataframe tbody tr th {\n",
       "        vertical-align: top;\n",
       "    }\n",
       "\n",
       "    .dataframe thead th {\n",
       "        text-align: right;\n",
       "    }\n",
       "</style>\n",
       "<table border=\"1\" class=\"dataframe\">\n",
       "  <thead>\n",
       "    <tr style=\"text-align: right;\">\n",
       "      <th></th>\n",
       "      <th>Altura</th>\n",
       "      <th>Peso</th>\n",
       "    </tr>\n",
       "  </thead>\n",
       "  <tbody>\n",
       "    <tr>\n",
       "      <th>Chiquis</th>\n",
       "      <td>190</td>\n",
       "      <td>90</td>\n",
       "    </tr>\n",
       "    <tr>\n",
       "      <th>Kevin</th>\n",
       "      <td>176</td>\n",
       "      <td>65</td>\n",
       "    </tr>\n",
       "    <tr>\n",
       "      <th>Nadia</th>\n",
       "      <td>165</td>\n",
       "      <td>55</td>\n",
       "    </tr>\n",
       "    <tr>\n",
       "      <th>Rubick</th>\n",
       "      <td>160</td>\n",
       "      <td>53</td>\n",
       "    </tr>\n",
       "  </tbody>\n",
       "</table>\n",
       "</div>"
      ],
      "text/plain": [
       "         Altura  Peso\n",
       "Chiquis     190    90\n",
       "Kevin       176    65\n",
       "Nadia       165    55\n",
       "Rubick      160    53"
      ]
     },
     "execution_count": 21,
     "metadata": {},
     "output_type": "execute_result"
    }
   ],
   "source": [
    "df[[\"Altura\", \"Peso\"]]"
   ]
  },
  {
   "cell_type": "code",
   "execution_count": 22,
   "id": "e8b8d7e0-bba5-412b-b827-806cee33d1b1",
   "metadata": {},
   "outputs": [
    {
     "ename": "TypeError",
     "evalue": "'>' not supported between instances of 'list' and 'int'",
     "output_type": "error",
     "traceback": [
      "\u001b[1;31m---------------------------------------------------------------------------\u001b[0m",
      "\u001b[1;31mTypeError\u001b[0m                                 Traceback (most recent call last)",
      "Cell \u001b[1;32mIn[22], line 2\u001b[0m\n\u001b[0;32m      1\u001b[0m \u001b[38;5;66;03m# Es posible ombirse loe metodos teriores o epresioes booles\u001b[39;00m\n\u001b[1;32m----> 2\u001b[0m df \u001b[38;5;241m=\u001b[39m \u001b[43m[\u001b[49m\u001b[38;5;124;43m\"\u001b[39;49m\u001b[38;5;124;43mPeso\u001b[39;49m\u001b[38;5;124;43m\"\u001b[39;49m\u001b[43m]\u001b[49m\u001b[43m \u001b[49m\u001b[38;5;241;43m>\u001b[39;49m\u001b[43m \u001b[49m\u001b[38;5;241;43m60\u001b[39;49m\n",
      "\u001b[1;31mTypeError\u001b[0m: '>' not supported between instances of 'list' and 'int'"
     ]
    }
   ],
   "source": [
    "# Es posible ombirse loe metodos teriores o epresioes booles\n",
    "df = [\"Peso\"] > 60"
   ]
  },
  {
   "cell_type": "code",
   "execution_count": null,
   "id": "869d7d47-af5f-46fb-930f-9b10048fe181",
   "metadata": {},
   "outputs": [],
   "source": [
    "# Puede ombirse los metodos teriores o epresioes booles\n",
    "df[df[\"Peso\"] > 60]"
   ]
  },
  {
   "cell_type": "markdown",
   "id": "59efb65c-1bb7-4276-b16e-3c8aaca32c44",
   "metadata": {},
   "source": [
    "## Acceder a los elementos de las filas del DataFrame"
   ]
  },
  {
   "cell_type": "code",
   "execution_count": null,
   "id": "cd132ef7-9a26-4916-802b-5ebd379ce4ba",
   "metadata": {},
   "outputs": [],
   "source": [
    "df"
   ]
  },
  {
   "cell_type": "code",
   "execution_count": null,
   "id": "280fbc11-1cbb-47da-bd54-9eb80395f9cc",
   "metadata": {},
   "outputs": [],
   "source": [
    "df.loc[\"Kevin\"]"
   ]
  },
  {
   "cell_type": "code",
   "execution_count": null,
   "id": "e4c7582f-aa48-406a-a75b-d32debb42c0c",
   "metadata": {},
   "outputs": [],
   "source": [
    "df.iloc[1]"
   ]
  },
  {
   "cell_type": "code",
   "execution_count": null,
   "id": "14c63781-3752-47f8-8748-814ca4929964",
   "metadata": {},
   "outputs": [],
   "source": [
    "df.iloc[1:3]"
   ]
  },
  {
   "cell_type": "markdown",
   "id": "2e5a8591-20d2-4087-82e0-2b53581a2500",
   "metadata": {},
   "source": [
    "### Consulta avanzada de los elementos de un DataFrame"
   ]
  },
  {
   "cell_type": "code",
   "execution_count": null,
   "id": "b9ae0b03-e76f-44d8-8f57-c8b4453a0d1e",
   "metadata": {},
   "outputs": [],
   "source": [
    "# Mostrr el Dtrme\n",
    "df"
   ]
  },
  {
   "cell_type": "code",
   "execution_count": null,
   "id": "82c58abf-98af-423f-ac4f-b6f56f6d3a9c",
   "metadata": {},
   "outputs": [],
   "source": [
    "df.query(\"Altura >= 165 and Peso > 60\")"
   ]
  },
  {
   "cell_type": "markdown",
   "id": "4e79cc0f-1b73-4627-bc99-c2038580617e",
   "metadata": {},
   "source": [
    "### Copiar un DataFrame"
   ]
  },
  {
   "cell_type": "code",
   "execution_count": null,
   "id": "a2c4c4ce-dcd4-4db4-83b0-aec32adc72c1",
   "metadata": {},
   "outputs": [],
   "source": [
    "Alumnos = {\n",
    "    \"Peso\": pd.Series([65, 55, 90, 53], [\"Kevin\", \"Nadia\", \"Adrian\", \"Yaret\"]),\n",
    "    \"Altura\": pd.Series({\"Kevin\": 176, \"Nadia\": 165, \"Adrian\": 190, \"Yaret\": 160}),\n",
    "    \"Hijos\": pd.Series([2, 3,], [\"Nadia\", \"Yaret\"])\n",
    "}\n",
    "\n",
    "df = pd.DataFrame(Alumnos)\n",
    "df"
   ]
  },
  {
   "cell_type": "code",
   "execution_count": null,
   "id": "06d4a7dc-7bf6-41c6-a402-1d8450452c6d",
   "metadata": {},
   "outputs": [],
   "source": [
    "# Copia el Dtrme d opy\n",
    "#ot el modiir e elemero de dopy o se modii e d\n",
    "df_copy = df.copy()"
   ]
  },
  {
   "cell_type": "code",
   "execution_count": null,
   "id": "954270b6-5414-4262-bac5-9b39b92af4da",
   "metadata": {},
   "outputs": [],
   "source": [
    "Alumnos = {\n",
    "    \"Peso\": pd.Series([65, 55, 90, 53], [\"Kevin\", \"Nadia\", \"Adrian\", \"Yaret\"]),\n",
    "    \"Altura\": pd.Series({\"Kevin\": 176, \"Nadia\": 165, \"Adrian\": 190, \"Yaret\": 160}),\n",
    "    \"Hijos\": pd.Series([2, 3,], [\"Nadia\", \"Yaret\"])\n",
    "}\n",
    "\n",
    "df = pd.DataFrame(Alumnos)\n",
    "df"
   ]
  },
  {
   "cell_type": "code",
   "execution_count": null,
   "id": "db01cc4c-c2ad-4981-9ca7-f994f16cd6ce",
   "metadata": {},
   "outputs": [],
   "source": [
    "# dir u uev olum  Dtrme\n",
    "df[\"Año_Nacimiento\"] = [2005, 2004, 2005, 2005]\n",
    "df"
   ]
  },
  {
   "cell_type": "code",
   "execution_count": null,
   "id": "31bd9daf-d585-4600-bc5a-90302d24f030",
   "metadata": {},
   "outputs": [],
   "source": [
    "df_copy"
   ]
  },
  {
   "cell_type": "code",
   "execution_count": null,
   "id": "8d912752-ba99-4876-a768-485578656c51",
   "metadata": {},
   "outputs": [],
   "source": [
    "# Añadir una nueva columna al DataFrame\n",
    "df[\"Edad\"] = 2024 - df[\"Año_Nacimiento\"]\n",
    "df"
   ]
  },
  {
   "cell_type": "code",
   "execution_count": null,
   "id": "36d62835-19ce-4d58-9f5e-a69b69edf757",
   "metadata": {},
   "outputs": [],
   "source": [
    "# Añadir una nueva columna con un DataFrame Nuevo\n",
    "df_mod = df.assign(Mascotas = [0, 2, 1, 3])\n",
    "df_mod"
   ]
  },
  {
   "cell_type": "code",
   "execution_count": null,
   "id": "9b8ab5b8-d5d2-4f40-9545-353e4ab65a30",
   "metadata": {},
   "outputs": [],
   "source": [
    "df"
   ]
  },
  {
   "cell_type": "code",
   "execution_count": null,
   "id": "6e7c8d13-bb6a-41a4-8c20-e09397720f12",
   "metadata": {},
   "outputs": [],
   "source": [
    "# Eliminar u\n",
    "del df[\"Peso\"]\n",
    "df"
   ]
  },
  {
   "cell_type": "code",
   "execution_count": null,
   "id": "4e9e2878-1e58-40db-988b-1f12d17be888",
   "metadata": {},
   "outputs": [],
   "source": [
    "df_copy"
   ]
  },
  {
   "cell_type": "code",
   "execution_count": null,
   "id": "a8eb5705-3e3a-4efb-87a7-f9a03ad11748",
   "metadata": {},
   "outputs": [],
   "source": [
    "# Eliminar una columna existente devolviendo una copia del DataFrame resultante\n",
    "df_mod = df.drop([\"Hijos\"], axis = 1)\n",
    "df_mod"
   ]
  },
  {
   "cell_type": "markdown",
   "id": "365d33a0-b193-4d59-ad1d-92e05fb1a9ed",
   "metadata": {},
   "source": [
    "### Evaluacion de expresiones sobre un DataFrame"
   ]
  },
  {
   "cell_type": "code",
   "execution_count": null,
   "id": "fb18fc78-ee18-4ab0-ad01-616055ecf99d",
   "metadata": {},
   "outputs": [],
   "source": [
    "Alumnos = {\n",
    "    \"Peso\": pd.Series([65, 55, 90, 53], [\"Kevin\", \"Nadia\", \"Adrian\", \"Yaret\"]),\n",
    "    \"Altura\": pd.Series({\"Kevin\": 176, \"Nadia\": 165, \"Adrian\": 190, \"Yaret\": 160}),\n",
    "    \"Hijos\": pd.Series([2, 3,], [\"Nadia\", \"Yaret\"])\n",
    "}\n",
    "\n",
    "df = pd.DataFrame(Alumnos)\n",
    "df"
   ]
  },
  {
   "cell_type": "code",
   "execution_count": null,
   "id": "8e539610-e581-4bf1-963f-087b7d23a236",
   "metadata": {},
   "outputs": [],
   "source": [
    "# Evaluar una funcion sobre una columna del DaraFrame\n",
    "df.eval(\"Altura / 2\")"
   ]
  },
  {
   "cell_type": "code",
   "execution_count": null,
   "id": "fef8f42a-1782-4ac3-8eda-d2fb0c83346d",
   "metadata": {},
   "outputs": [],
   "source": [
    "# Asignar el valor resultante como una nueva columna\n",
    "df.eval(\"Media_Altura = Altura / 2\", inplace = True)\n",
    "df"
   ]
  },
  {
   "cell_type": "code",
   "execution_count": null,
   "id": "751980e5-07d0-4958-bfd3-b145b14c2e49",
   "metadata": {},
   "outputs": [],
   "source": [
    "# Evaluar una funcion\n",
    "max_altura = 170\n",
    "df.eval(\"Altura > @max_altura\")"
   ]
  },
  {
   "cell_type": "code",
   "execution_count": null,
   "id": "ee232829-045e-407e-85a3-6004efb3694d",
   "metadata": {},
   "outputs": [],
   "source": [
    "# Aplicar una funcion externa a una columna del DataFrame\n",
    "def fun(x):\n",
    "    return x + 2\n",
    "\n",
    "df[\"Peso\"].apply(fun)"
   ]
  },
  {
   "cell_type": "code",
   "execution_count": null,
   "id": "29c9ff19-40a8-43ac-b286-f050cf4180c7",
   "metadata": {},
   "outputs": [],
   "source": [
    "df"
   ]
  },
  {
   "cell_type": "markdown",
   "id": "5eaa9dec-3417-4fdd-b1eb-cb6c294d816b",
   "metadata": {},
   "source": [
    "### Guardar y cargar el DataFrame"
   ]
  },
  {
   "cell_type": "code",
   "execution_count": null,
   "id": "088e8381-2c2b-45ea-b2ae-de0abb7ec5c8",
   "metadata": {},
   "outputs": [],
   "source": [
    "Alumnos = {\n",
    "    \"Peso\": pd.Series([65, 55, 90, 53], [\"Kevin\", \"Nadia\", \"Adrian\", \"Yaret\"]),\n",
    "    \"Altura\": pd.Series({\"Kevin\": 176, \"Nadia\": 165, \"Adrian\": 190, \"Yaret\": 160}),\n",
    "    \"Hijos\": pd.Series([2, 3,], [\"Nadia\", \"Yaret\"])\n",
    "}\n",
    "\n",
    "df = pd.DataFrame(Alumnos)\n",
    "df"
   ]
  },
  {
   "cell_type": "code",
   "execution_count": null,
   "id": "d862f3d2-9f31-461e-aa1a-3b8f52328492",
   "metadata": {},
   "outputs": [],
   "source": [
    "# Guardar el DataFrame como CSV, HTML y JSON\n",
    "df.to_csv(\"df_Alumnos.csv\")\n",
    "df.to_html(\"df_Alumnos.html\")\n",
    "df.to_json(\"df_Alumnos.json\")"
   ]
  },
  {
   "cell_type": "code",
   "execution_count": 33,
   "id": "1638ad75-e8d6-40b7-bd11-75e7cc9c9782",
   "metadata": {},
   "outputs": [
    {
     "ename": "UnicodeDecodeError",
     "evalue": "'utf-8' codec can't decode byte 0x97 in position 180: invalid start byte",
     "output_type": "error",
     "traceback": [
      "\u001b[1;31m---------------------------------------------------------------------------\u001b[0m",
      "\u001b[1;31mUnicodeDecodeError\u001b[0m                        Traceback (most recent call last)",
      "Cell \u001b[1;32mIn[33], line 2\u001b[0m\n\u001b[0;32m      1\u001b[0m \u001b[38;5;66;03m#Cargar el DataFrame en Jupyter\u001b[39;00m\n\u001b[1;32m----> 2\u001b[0m df2 \u001b[38;5;241m=\u001b[39m \u001b[43mpd\u001b[49m\u001b[38;5;241;43m.\u001b[39;49m\u001b[43mread_csv\u001b[49m\u001b[43m(\u001b[49m\u001b[38;5;124;43m\"\u001b[39;49m\u001b[38;5;124;43mEstadistica_3202.csv\u001b[39;49m\u001b[38;5;124;43m\"\u001b[39;49m\u001b[43m,\u001b[49m\u001b[43m \u001b[49m\u001b[43mindex_col\u001b[49m\u001b[43m \u001b[49m\u001b[38;5;241;43m=\u001b[39;49m\u001b[43m \u001b[49m\u001b[38;5;241;43m0\u001b[39;49m\u001b[43m)\u001b[49m\n\u001b[0;32m      3\u001b[0m df2\n",
      "File \u001b[1;32m~\\anaconda3\\envs\\Machine_Learning\\lib\\site-packages\\pandas\\io\\parsers\\readers.py:948\u001b[0m, in \u001b[0;36mread_csv\u001b[1;34m(filepath_or_buffer, sep, delimiter, header, names, index_col, usecols, dtype, engine, converters, true_values, false_values, skipinitialspace, skiprows, skipfooter, nrows, na_values, keep_default_na, na_filter, verbose, skip_blank_lines, parse_dates, infer_datetime_format, keep_date_col, date_parser, date_format, dayfirst, cache_dates, iterator, chunksize, compression, thousands, decimal, lineterminator, quotechar, quoting, doublequote, escapechar, comment, encoding, encoding_errors, dialect, on_bad_lines, delim_whitespace, low_memory, memory_map, float_precision, storage_options, dtype_backend)\u001b[0m\n\u001b[0;32m    935\u001b[0m kwds_defaults \u001b[38;5;241m=\u001b[39m _refine_defaults_read(\n\u001b[0;32m    936\u001b[0m     dialect,\n\u001b[0;32m    937\u001b[0m     delimiter,\n\u001b[1;32m   (...)\u001b[0m\n\u001b[0;32m    944\u001b[0m     dtype_backend\u001b[38;5;241m=\u001b[39mdtype_backend,\n\u001b[0;32m    945\u001b[0m )\n\u001b[0;32m    946\u001b[0m kwds\u001b[38;5;241m.\u001b[39mupdate(kwds_defaults)\n\u001b[1;32m--> 948\u001b[0m \u001b[38;5;28;01mreturn\u001b[39;00m \u001b[43m_read\u001b[49m\u001b[43m(\u001b[49m\u001b[43mfilepath_or_buffer\u001b[49m\u001b[43m,\u001b[49m\u001b[43m \u001b[49m\u001b[43mkwds\u001b[49m\u001b[43m)\u001b[49m\n",
      "File \u001b[1;32m~\\anaconda3\\envs\\Machine_Learning\\lib\\site-packages\\pandas\\io\\parsers\\readers.py:611\u001b[0m, in \u001b[0;36m_read\u001b[1;34m(filepath_or_buffer, kwds)\u001b[0m\n\u001b[0;32m    608\u001b[0m _validate_names(kwds\u001b[38;5;241m.\u001b[39mget(\u001b[38;5;124m\"\u001b[39m\u001b[38;5;124mnames\u001b[39m\u001b[38;5;124m\"\u001b[39m, \u001b[38;5;28;01mNone\u001b[39;00m))\n\u001b[0;32m    610\u001b[0m \u001b[38;5;66;03m# Create the parser.\u001b[39;00m\n\u001b[1;32m--> 611\u001b[0m parser \u001b[38;5;241m=\u001b[39m TextFileReader(filepath_or_buffer, \u001b[38;5;241m*\u001b[39m\u001b[38;5;241m*\u001b[39mkwds)\n\u001b[0;32m    613\u001b[0m \u001b[38;5;28;01mif\u001b[39;00m chunksize \u001b[38;5;129;01mor\u001b[39;00m iterator:\n\u001b[0;32m    614\u001b[0m     \u001b[38;5;28;01mreturn\u001b[39;00m parser\n",
      "File \u001b[1;32m~\\anaconda3\\envs\\Machine_Learning\\lib\\site-packages\\pandas\\io\\parsers\\readers.py:1448\u001b[0m, in \u001b[0;36mTextFileReader.__init__\u001b[1;34m(self, f, engine, **kwds)\u001b[0m\n\u001b[0;32m   1445\u001b[0m     \u001b[38;5;28mself\u001b[39m\u001b[38;5;241m.\u001b[39moptions[\u001b[38;5;124m\"\u001b[39m\u001b[38;5;124mhas_index_names\u001b[39m\u001b[38;5;124m\"\u001b[39m] \u001b[38;5;241m=\u001b[39m kwds[\u001b[38;5;124m\"\u001b[39m\u001b[38;5;124mhas_index_names\u001b[39m\u001b[38;5;124m\"\u001b[39m]\n\u001b[0;32m   1447\u001b[0m \u001b[38;5;28mself\u001b[39m\u001b[38;5;241m.\u001b[39mhandles: IOHandles \u001b[38;5;241m|\u001b[39m \u001b[38;5;28;01mNone\u001b[39;00m \u001b[38;5;241m=\u001b[39m \u001b[38;5;28;01mNone\u001b[39;00m\n\u001b[1;32m-> 1448\u001b[0m \u001b[38;5;28mself\u001b[39m\u001b[38;5;241m.\u001b[39m_engine \u001b[38;5;241m=\u001b[39m \u001b[38;5;28;43mself\u001b[39;49m\u001b[38;5;241;43m.\u001b[39;49m\u001b[43m_make_engine\u001b[49m\u001b[43m(\u001b[49m\u001b[43mf\u001b[49m\u001b[43m,\u001b[49m\u001b[43m \u001b[49m\u001b[38;5;28;43mself\u001b[39;49m\u001b[38;5;241;43m.\u001b[39;49m\u001b[43mengine\u001b[49m\u001b[43m)\u001b[49m\n",
      "File \u001b[1;32m~\\anaconda3\\envs\\Machine_Learning\\lib\\site-packages\\pandas\\io\\parsers\\readers.py:1723\u001b[0m, in \u001b[0;36mTextFileReader._make_engine\u001b[1;34m(self, f, engine)\u001b[0m\n\u001b[0;32m   1720\u001b[0m     \u001b[38;5;28;01mraise\u001b[39;00m \u001b[38;5;167;01mValueError\u001b[39;00m(msg)\n\u001b[0;32m   1722\u001b[0m \u001b[38;5;28;01mtry\u001b[39;00m:\n\u001b[1;32m-> 1723\u001b[0m     \u001b[38;5;28;01mreturn\u001b[39;00m mapping[engine](f, \u001b[38;5;241m*\u001b[39m\u001b[38;5;241m*\u001b[39m\u001b[38;5;28mself\u001b[39m\u001b[38;5;241m.\u001b[39moptions)\n\u001b[0;32m   1724\u001b[0m \u001b[38;5;28;01mexcept\u001b[39;00m \u001b[38;5;167;01mException\u001b[39;00m:\n\u001b[0;32m   1725\u001b[0m     \u001b[38;5;28;01mif\u001b[39;00m \u001b[38;5;28mself\u001b[39m\u001b[38;5;241m.\u001b[39mhandles \u001b[38;5;129;01mis\u001b[39;00m \u001b[38;5;129;01mnot\u001b[39;00m \u001b[38;5;28;01mNone\u001b[39;00m:\n",
      "File \u001b[1;32m~\\anaconda3\\envs\\Machine_Learning\\lib\\site-packages\\pandas\\io\\parsers\\c_parser_wrapper.py:93\u001b[0m, in \u001b[0;36mCParserWrapper.__init__\u001b[1;34m(self, src, **kwds)\u001b[0m\n\u001b[0;32m     90\u001b[0m \u001b[38;5;28;01mif\u001b[39;00m kwds[\u001b[38;5;124m\"\u001b[39m\u001b[38;5;124mdtype_backend\u001b[39m\u001b[38;5;124m\"\u001b[39m] \u001b[38;5;241m==\u001b[39m \u001b[38;5;124m\"\u001b[39m\u001b[38;5;124mpyarrow\u001b[39m\u001b[38;5;124m\"\u001b[39m:\n\u001b[0;32m     91\u001b[0m     \u001b[38;5;66;03m# Fail here loudly instead of in cython after reading\u001b[39;00m\n\u001b[0;32m     92\u001b[0m     import_optional_dependency(\u001b[38;5;124m\"\u001b[39m\u001b[38;5;124mpyarrow\u001b[39m\u001b[38;5;124m\"\u001b[39m)\n\u001b[1;32m---> 93\u001b[0m \u001b[38;5;28mself\u001b[39m\u001b[38;5;241m.\u001b[39m_reader \u001b[38;5;241m=\u001b[39m parsers\u001b[38;5;241m.\u001b[39mTextReader(src, \u001b[38;5;241m*\u001b[39m\u001b[38;5;241m*\u001b[39mkwds)\n\u001b[0;32m     95\u001b[0m \u001b[38;5;28mself\u001b[39m\u001b[38;5;241m.\u001b[39munnamed_cols \u001b[38;5;241m=\u001b[39m \u001b[38;5;28mself\u001b[39m\u001b[38;5;241m.\u001b[39m_reader\u001b[38;5;241m.\u001b[39munnamed_cols\n\u001b[0;32m     97\u001b[0m \u001b[38;5;66;03m# error: Cannot determine type of 'names'\u001b[39;00m\n",
      "File \u001b[1;32mparsers.pyx:579\u001b[0m, in \u001b[0;36mpandas._libs.parsers.TextReader.__cinit__\u001b[1;34m()\u001b[0m\n",
      "File \u001b[1;32mparsers.pyx:668\u001b[0m, in \u001b[0;36mpandas._libs.parsers.TextReader._get_header\u001b[1;34m()\u001b[0m\n",
      "File \u001b[1;32mparsers.pyx:879\u001b[0m, in \u001b[0;36mpandas._libs.parsers.TextReader._tokenize_rows\u001b[1;34m()\u001b[0m\n",
      "File \u001b[1;32mparsers.pyx:890\u001b[0m, in \u001b[0;36mpandas._libs.parsers.TextReader._check_tokenize_status\u001b[1;34m()\u001b[0m\n",
      "File \u001b[1;32mparsers.pyx:2050\u001b[0m, in \u001b[0;36mpandas._libs.parsers.raise_parser_error\u001b[1;34m()\u001b[0m\n",
      "\u001b[1;31mUnicodeDecodeError\u001b[0m: 'utf-8' codec can't decode byte 0x97 in position 180: invalid start byte"
     ]
    }
   ],
   "source": [
    "#Cargar el DataFrame en Jupyter\n",
    "df2 = pd.read_csv(\"Estadistica_3202.csv\", index_col = 0)\n",
    "df2"
   ]
  },
  {
   "cell_type": "code",
   "execution_count": 29,
   "id": "fc2f54b7-e4cb-49a4-a362-6982dccebbd2",
   "metadata": {},
   "outputs": [
    {
     "ename": "NameError",
     "evalue": "name 'index' is not defined",
     "output_type": "error",
     "traceback": [
      "\u001b[1;31m---------------------------------------------------------------------------\u001b[0m",
      "\u001b[1;31mNameError\u001b[0m                                 Traceback (most recent call last)",
      "Cell \u001b[1;32mIn[29], line 2\u001b[0m\n\u001b[0;32m      1\u001b[0m \u001b[38;5;66;03m# Cargar el DataFrame \u001b[39;00m\n\u001b[1;32m----> 2\u001b[0m df2 \u001b[38;5;241m=\u001b[39m pd\u001b[38;5;241m.\u001b[39mread_csv(\u001b[38;5;124m\"\u001b[39m\u001b[38;5;124mdf_Alumnos.csv\u001b[39m\u001b[38;5;124m\"\u001b[39m, \u001b[43mindex\u001b[49m\u001b[38;5;241m.\u001b[39mcol \u001b[38;5;241m==\u001b[39m \u001b[38;5;241m0\u001b[39m)\n\u001b[0;32m      3\u001b[0m df2\n",
      "\u001b[1;31mNameError\u001b[0m: name 'index' is not defined"
     ]
    }
   ],
   "source": [
    "# Cargar el DataFrame \n",
    "df2 = pd.read_csv(\"df_Alumnos.csv\", index.col == 0)\n",
    "df2"
   ]
  },
  {
   "cell_type": "code",
   "execution_count": null,
   "id": "703b91de-5a28-436e-b835-7f89455f7b88",
   "metadata": {},
   "outputs": [],
   "source": []
  }
 ],
 "metadata": {
  "kernelspec": {
   "display_name": "Python 3 (ipykernel)",
   "language": "python",
   "name": "python3"
  },
  "language_info": {
   "codemirror_mode": {
    "name": "ipython",
    "version": 3
   },
   "file_extension": ".py",
   "mimetype": "text/x-python",
   "name": "python",
   "nbconvert_exporter": "python",
   "pygments_lexer": "ipython3",
   "version": "3.10.14"
  }
 },
 "nbformat": 4,
 "nbformat_minor": 5
}
