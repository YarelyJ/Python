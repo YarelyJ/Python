{
 "cells": [
  {
   "cell_type": "code",
   "execution_count": 1,
   "id": "10db4c2e-cd7c-4751-9cd3-d95332805d0a",
   "metadata": {},
   "outputs": [
    {
     "name": "stdout",
     "output_type": "stream",
     "text": [
      "Collecting gekko\n",
      "  Downloading gekko-1.2.1-py3-none-any.whl.metadata (3.0 kB)\n",
      "Requirement already satisfied: numpy>=1.8 in c:\\users\\yareli\\anaconda3\\envs\\io\\lib\\site-packages (from gekko) (2.1.3)\n",
      "Downloading gekko-1.2.1-py3-none-any.whl (13.2 MB)\n",
      "   ---------------------------------------- 0.0/13.2 MB ? eta -:--:--\n",
      "   ---------------------------------------- 0.0/13.2 MB ? eta -:--:--\n",
      "   - -------------------------------------- 0.5/13.2 MB 2.1 MB/s eta 0:00:07\n",
      "   --- ------------------------------------ 1.0/13.2 MB 2.3 MB/s eta 0:00:06\n",
      "   ---- ----------------------------------- 1.6/13.2 MB 2.5 MB/s eta 0:00:05\n",
      "   ------- -------------------------------- 2.4/13.2 MB 2.6 MB/s eta 0:00:05\n",
      "   --------- ------------------------------ 3.1/13.2 MB 2.8 MB/s eta 0:00:04\n",
      "   ----------- ---------------------------- 3.7/13.2 MB 2.8 MB/s eta 0:00:04\n",
      "   -------------- ------------------------- 4.7/13.2 MB 3.1 MB/s eta 0:00:03\n",
      "   ---------------- ----------------------- 5.5/13.2 MB 3.2 MB/s eta 0:00:03\n",
      "   ------------------- -------------------- 6.3/13.2 MB 3.2 MB/s eta 0:00:03\n",
      "   ---------------------- ----------------- 7.3/13.2 MB 3.4 MB/s eta 0:00:02\n",
      "   ------------------------ --------------- 8.1/13.2 MB 3.4 MB/s eta 0:00:02\n",
      "   --------------------------- ------------ 9.2/13.2 MB 3.5 MB/s eta 0:00:02\n",
      "   ------------------------------- -------- 10.2/13.2 MB 3.6 MB/s eta 0:00:01\n",
      "   --------------------------------- ------ 11.0/13.2 MB 3.6 MB/s eta 0:00:01\n",
      "   ----------------------------------- ---- 11.8/13.2 MB 3.7 MB/s eta 0:00:01\n",
      "   ---------------------------------------  12.8/13.2 MB 3.7 MB/s eta 0:00:01\n",
      "   ---------------------------------------- 13.2/13.2 MB 3.6 MB/s eta 0:00:00\n",
      "Installing collected packages: gekko\n",
      "Successfully installed gekko-1.2.1\n"
     ]
    }
   ],
   "source": [
    "!pip install gekko"
   ]
  },
  {
   "cell_type": "code",
   "execution_count": 2,
   "id": "f31af79f-6c85-45c2-822a-ae7544d5e650",
   "metadata": {},
   "outputs": [],
   "source": [
    "import numpy as np\n",
    "from python_tsp.exact import solve_tsp_dynamic_programming\n",
    "\n",
    "def resolver_tsp(matriz_distancias):\n",
    "    # Asegurarse de que la matriz sea un numpy array\n",
    "    matriz_distancias = np.array(matriz_distancias)\n",
    "    \n",
    "    # Validar que la matriz sea cuadrada\n",
    "    if matriz_distancias.shape[0] != matriz_distancias.shape[1]:\n",
    "        raise ValueError(\"La matriz de distancias debe ser cuadrada.\")\n",
    "    \n",
    "    # Resolver el problema TSP\n",
    "    ruta, distancia = solve_tsp_dynamic_programming(matriz_distancias)\n",
    "    \n",
    "    # Ajustar la ruta para que empiece en 1 en lugar de 0\n",
    "    ruta = np.array(ruta) + 1\n",
    "    \n",
    "    print(\"La ruta más corta es:\", ruta, \"y la distancia es:\", distancia)\n",
    "    return ruta, distancia"
   ]
  },
  {
   "cell_type": "code",
   "execution_count": 3,
   "id": "193f9090-3230-48cb-9543-a1f84b4b4982",
   "metadata": {},
   "outputs": [
    {
     "name": "stdout",
     "output_type": "stream",
     "text": [
      "La ruta más corta es: [1 2 3] y la distancia es: 18\n"
     ]
    },
    {
     "data": {
      "text/plain": [
       "(array([1, 2, 3]), np.int64(18))"
      ]
     },
     "execution_count": 3,
     "metadata": {},
     "output_type": "execute_result"
    }
   ],
   "source": [
    "distancia_matriz = np.array([\n",
    "    [0,10,8],\n",
    "    [7,0,6],\n",
    "    [2,8,0],\n",
    "                            \n",
    "])\n",
    "resolver_tsp(distancia_matriz)\n",
    "                            "
   ]
  },
  {
   "cell_type": "code",
   "execution_count": null,
   "id": "f1f56d56-d946-49a0-ad85-f89cfb5cafa1",
   "metadata": {},
   "outputs": [],
   "source": []
  }
 ],
 "metadata": {
  "kernelspec": {
   "display_name": "Python 3 (ipykernel)",
   "language": "python",
   "name": "python3"
  },
  "language_info": {
   "codemirror_mode": {
    "name": "ipython",
    "version": 3
   },
   "file_extension": ".py",
   "mimetype": "text/x-python",
   "name": "python",
   "nbconvert_exporter": "python",
   "pygments_lexer": "ipython3",
   "version": "3.12.3"
  }
 },
 "nbformat": 4,
 "nbformat_minor": 5
}
