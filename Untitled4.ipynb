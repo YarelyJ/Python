{
 "cells": [
  {
   "cell_type": "code",
   "execution_count": 1,
   "id": "18c29cd7-5943-4ea2-a0d7-9b5dea796b63",
   "metadata": {},
   "outputs": [],
   "source": [
    "import pulp"
   ]
  },
  {
   "cell_type": "code",
   "execution_count": 3,
   "id": "b596512f-65b4-4031-aa3a-a34d41ae1f59",
   "metadata": {},
   "outputs": [],
   "source": [
    "problem=pulp.LpProblem(\"Transportation problem\",pulp.LpMinimize)"
   ]
  },
  {
   "cell_type": "code",
   "execution_count": 4,
   "id": "92c9c290-1c3b-4c60-acdd-baa016663bd6",
   "metadata": {},
   "outputs": [],
   "source": [
    "supply = [15, 25,5] # supply at each sourse\n",
    "demand = [5, 15, 15, 10] # demand at each destination"
   ]
  },
  {
   "cell_type": "code",
   "execution_count": 5,
   "id": "1e8a2620-1ac5-4b32-9c32-baf870d85d66",
   "metadata": {},
   "outputs": [],
   "source": [
    "costs= [\n",
    "    [10, 0, 20, 11],\n",
    "    [12, 7, 9, 20],\n",
    "    [0, 14, 16, 18]\n",
    "]"
   ]
  },
  {
   "cell_type": "code",
   "execution_count": null,
   "id": "ba543f32-21a6-43e2-9422-d157a42e0cce",
   "metadata": {},
   "outputs": [],
   "source": []
  }
 ],
 "metadata": {
  "kernelspec": {
   "display_name": "Python 3 (ipykernel)",
   "language": "python",
   "name": "python3"
  },
  "language_info": {
   "codemirror_mode": {
    "name": "ipython",
    "version": 3
   },
   "file_extension": ".py",
   "mimetype": "text/x-python",
   "name": "python",
   "nbconvert_exporter": "python",
   "pygments_lexer": "ipython3",
   "version": "3.10.14"
  }
 },
 "nbformat": 4,
 "nbformat_minor": 5
}
