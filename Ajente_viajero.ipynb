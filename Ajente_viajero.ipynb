{
 "cells": [
  {
   "cell_type": "code",
   "execution_count": 1,
   "id": "9ccc19b3-01da-4291-aad9-6cf9d8f9a3db",
   "metadata": {},
   "outputs": [
    {
     "name": "stdout",
     "output_type": "stream",
     "text": [
      "Requirement already satisfied: python-tsp in c:\\users\\yareli\\anaconda3\\envs\\io\\lib\\site-packages (0.5.0)\n",
      "Requirement already satisfied: numpy<3.0.0,>=2.0.0 in c:\\users\\yareli\\anaconda3\\envs\\io\\lib\\site-packages (from python-tsp) (2.1.3)\n",
      "Requirement already satisfied: requests<3.0.0,>=2.28.0 in c:\\users\\yareli\\anaconda3\\envs\\io\\lib\\site-packages (from python-tsp) (2.32.3)\n",
      "Requirement already satisfied: tsplib95<0.8.0,>=0.7.1 in c:\\users\\yareli\\anaconda3\\envs\\io\\lib\\site-packages (from python-tsp) (0.7.1)\n",
      "Requirement already satisfied: charset-normalizer<4,>=2 in c:\\users\\yareli\\anaconda3\\envs\\io\\lib\\site-packages (from requests<3.0.0,>=2.28.0->python-tsp) (3.3.2)\n",
      "Requirement already satisfied: idna<4,>=2.5 in c:\\users\\yareli\\anaconda3\\envs\\io\\lib\\site-packages (from requests<3.0.0,>=2.28.0->python-tsp) (3.7)\n",
      "Requirement already satisfied: urllib3<3,>=1.21.1 in c:\\users\\yareli\\anaconda3\\envs\\io\\lib\\site-packages (from requests<3.0.0,>=2.28.0->python-tsp) (2.2.3)\n",
      "Requirement already satisfied: certifi>=2017.4.17 in c:\\users\\yareli\\anaconda3\\envs\\io\\lib\\site-packages (from requests<3.0.0,>=2.28.0->python-tsp) (2024.8.30)\n",
      "Requirement already satisfied: Click>=6.0 in c:\\users\\yareli\\anaconda3\\envs\\io\\lib\\site-packages (from tsplib95<0.8.0,>=0.7.1->python-tsp) (8.1.7)\n",
      "Requirement already satisfied: Deprecated~=1.2.9 in c:\\users\\yareli\\anaconda3\\envs\\io\\lib\\site-packages (from tsplib95<0.8.0,>=0.7.1->python-tsp) (1.2.14)\n",
      "Requirement already satisfied: networkx~=2.1 in c:\\users\\yareli\\anaconda3\\envs\\io\\lib\\site-packages (from tsplib95<0.8.0,>=0.7.1->python-tsp) (2.8.8)\n",
      "Requirement already satisfied: tabulate~=0.8.7 in c:\\users\\yareli\\anaconda3\\envs\\io\\lib\\site-packages (from tsplib95<0.8.0,>=0.7.1->python-tsp) (0.8.10)\n",
      "Requirement already satisfied: colorama in c:\\users\\yareli\\anaconda3\\envs\\io\\lib\\site-packages (from Click>=6.0->tsplib95<0.8.0,>=0.7.1->python-tsp) (0.4.6)\n",
      "Requirement already satisfied: wrapt<2,>=1.10 in c:\\users\\yareli\\anaconda3\\envs\\io\\lib\\site-packages (from Deprecated~=1.2.9->tsplib95<0.8.0,>=0.7.1->python-tsp) (1.16.0)\n"
     ]
    }
   ],
   "source": [
    "! pip install python-tsp"
   ]
  },
  {
   "cell_type": "code",
   "execution_count": null,
   "id": "10e58f6d-f3f4-4c25-a5c4-e5533c6c1cab",
   "metadata": {},
   "outputs": [],
   "source": [
    "import numpy as np\n",
    "from python_tsp.exact import solve_tsp_dynamic_programming"
   ]
  },
  {
   "cell_type": "code",
   "execution_count": 7,
   "id": "6c0dad62-15dc-49f0-b539-82f98e440053",
   "metadata": {},
   "outputs": [],
   "source": [
    "distancia_matrix= np.array([\n",
    "    #\n",
    "    [0, 94, 96, 107, 95, 99, 111, 102, 101],\n",
    "    [60, 0, 88, 71, 84, 77, 78, 83, 84],\n",
    "    [33, 37, 0, 38, 39, 31, 38, 39, 28],\n",
    "    [45, 49, 48, 0, 28, 37, 45, 44, 43],\n",
    "    [133, 119, 99, 114, 0, 176, 161, 136, 162],\n",
    "    [75, 89, 70, 86, 84, 0, 82, 87, 88],\n",
    "    [25, 22, 29, 27, 22, 27, 0, 24, 20],\n",
    "    [83, 88, 97, 98, 83, 81, 88, 0, 80],\n",
    "    [37, 38, 38, 46, 98, 48, 55, 48, 0],\n",
    "])"
   ]
  },
  {
   "cell_type": "code",
   "execution_count": 8,
   "id": "adcdf369-4e60-4df2-a519-13830d3e2533",
   "metadata": {},
   "outputs": [],
   "source": [
    "ruta, distancia = solve_tsp_dynamic_programming(distancia_matrix)\n",
    "ruta = np.array(ruta)+1"
   ]
  },
  {
   "cell_type": "code",
   "execution_count": 9,
   "id": "ff7fd985-6d02-49dd-9d72-d50ae35ea5ac",
   "metadata": {},
   "outputs": [
    {
     "name": "stdout",
     "output_type": "stream",
     "text": [
      "La tura mas corta es:  [1 8 6 7 4 5 3 9 2] La distancia mas corta es:  545\n"
     ]
    }
   ],
   "source": [
    "print(\"La tura mas corta es: \", ruta, \"La distancia mas corta es: \",distancia) "
   ]
  },
  {
   "cell_type": "code",
   "execution_count": null,
   "id": "d91bec5d-63de-4d40-9cbb-4c33b25f9482",
   "metadata": {},
   "outputs": [],
   "source": []
  }
 ],
 "metadata": {
  "kernelspec": {
   "display_name": "Python 3 (ipykernel)",
   "language": "python",
   "name": "python3"
  },
  "language_info": {
   "codemirror_mode": {
    "name": "ipython",
    "version": 3
   },
   "file_extension": ".py",
   "mimetype": "text/x-python",
   "name": "python",
   "nbconvert_exporter": "python",
   "pygments_lexer": "ipython3",
   "version": "3.12.3"
  }
 },
 "nbformat": 4,
 "nbformat_minor": 5
}
