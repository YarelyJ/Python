{
 "cells": [
  {
   "cell_type": "markdown",
   "id": "c10b719e-0b13-4fd7-a6d5-cf7ffff61044",
   "metadata": {},
   "source": [
    "# Introducción a Numpy"
   ]
  },
  {
   "cell_type": "markdown",
   "id": "9271c4b9-754b-4e00-868e-e6c6f00c2415",
   "metadata": {},
   "source": [
    "[Numpy](https://numpy.org/) Es una lubreria fundamental para la computación cientifica con Python.\n",
    "* Proporciona arrays N_dimencionales.\n",
    "* Implementa funciones matematicas sofisticadas.\n",
    "* Proporciona herramientas para integrar C/C++ y Fortran.\n",
    "* Proporciona mecanismos para facilitar para facilitar la realizacion de tareas relacionadas con algebra lineal o numeros aleatorios. "
   ]
  },
  {
   "cell_type": "markdown",
   "id": "013ca865-03b7-48b5-a2c7-69e09a29229e",
   "metadata": {},
   "source": [
    "# Imports"
   ]
  },
  {
   "cell_type": "code",
   "execution_count": 1,
   "id": "496c2acc-64c1-4a4a-84f3-47cdd2c62485",
   "metadata": {},
   "outputs": [],
   "source": [
    "import numpy as np"
   ]
  },
  {
   "cell_type": "markdown",
   "id": "633c285d-c952-4ba4-a3fc-077c3b080f9f",
   "metadata": {},
   "source": [
    "## Arrays"
   ]
  },
  {
   "cell_type": "markdown",
   "id": "c6476800-92ec-41eb-bd43-faaa1a1ca367",
   "metadata": {},
   "source": [
    "Un **array** es una estructura de datos que consiste en una proyeción de elementos (valores o variables) cada uno identificado por lo menos un índice o clave. Un array se almacena de modo que la posición de cada elemnto se pueda calcular a partir de su dupla de índice mediante una formula matemática. El tipo mas simple, es el array lineal tambien llamado array unidimencional. "
   ]
  },
  {
   "cell_type": "markdown",
   "id": "c4bc7e55-159c-4c7c-be06-be1ac6ee0b52",
   "metadata": {},
   "source": [
    "En Numpy:\n",
    "* Cada dimencion se denomina **axis**.\n",
    "* El número de dimenciones se denomina **rank**.\n",
    "* La lista de dimenciones con su correspondiente longitud se denomina **shappe**.\n",
    "* El número total de elementos que es la (multiplicación de las dimenciones), se denomina **size**."
   ]
  },
  {
   "cell_type": "code",
   "execution_count": 2,
   "id": "f2425622-af54-4948-b51e-0861bfc93e6a",
   "metadata": {},
   "outputs": [
    {
     "name": "stdout",
     "output_type": "stream",
     "text": [
      "Hola Mundo\n",
      "Ya soy un picudo en Puthon\n"
     ]
    },
    {
     "data": {
      "text/plain": [
       "20"
      ]
     },
     "execution_count": 2,
     "metadata": {},
     "output_type": "execute_result"
    }
   ],
   "source": [
    "# Hola Mundo \n",
    "print(\"Hola Mundo\")\n",
    "print('Ya soy un picudo en Puthon')\n",
    "a=20\n",
    "a"
   ]
  },
  {
   "cell_type": "code",
   "execution_count": 3,
   "id": "153b8232-598e-439e-9111-ded0a473dcaa",
   "metadata": {},
   "outputs": [],
   "source": [
    "# Array cuyos valores son todos 0\n",
    "a=np.zeros((2,4))"
   ]
  },
  {
   "cell_type": "code",
   "execution_count": 4,
   "id": "312aacda-e75d-4634-b6ad-9ee7bffd19bd",
   "metadata": {},
   "outputs": [
    {
     "data": {
      "text/plain": [
       "array([[0., 0., 0., 0.],\n",
       "       [0., 0., 0., 0.]])"
      ]
     },
     "execution_count": 4,
     "metadata": {},
     "output_type": "execute_result"
    }
   ],
   "source": [
    "a"
   ]
  },
  {
   "cell_type": "markdown",
   "id": "f388690b-2764-47ba-9715-36215a59f898",
   "metadata": {},
   "source": [
    "_**a**_ es un array:\n",
    "* Con dos **axis**, el primero de longitud 2 y el segundo de longitud 4.\n",
    "* Con un **rank** igual a 2.\n",
    "* Con un **shappe** igual (2, 4).\n",
    "* Con un **size** iguan a 8."
   ]
  },
  {
   "cell_type": "code",
   "execution_count": 5,
   "id": "bee3eddd-2ec6-42c1-99ea-be0f01061612",
   "metadata": {},
   "outputs": [
    {
     "data": {
      "text/plain": [
       "(2, 4)"
      ]
     },
     "execution_count": 5,
     "metadata": {},
     "output_type": "execute_result"
    }
   ],
   "source": [
    "a.shape"
   ]
  },
  {
   "cell_type": "code",
   "execution_count": 6,
   "id": "9853342b-a669-4bab-8f08-37a641a24cbe",
   "metadata": {},
   "outputs": [
    {
     "data": {
      "text/plain": [
       "2"
      ]
     },
     "execution_count": 6,
     "metadata": {},
     "output_type": "execute_result"
    }
   ],
   "source": [
    "a.ndim"
   ]
  },
  {
   "cell_type": "code",
   "execution_count": 7,
   "id": "67629de3-5e4e-4c7b-a858-4e13cb7ffc8b",
   "metadata": {},
   "outputs": [
    {
     "data": {
      "text/plain": [
       "8"
      ]
     },
     "execution_count": 7,
     "metadata": {},
     "output_type": "execute_result"
    }
   ],
   "source": [
    "a.size"
   ]
  },
  {
   "cell_type": "markdown",
   "id": "c811350c-d4ae-40a6-82c5-897cf0da7101",
   "metadata": {},
   "source": [
    "## Creación de arreglos "
   ]
  },
  {
   "cell_type": "code",
   "execution_count": 8,
   "id": "3045e9b1-8f9e-41c2-be1f-6551df2af924",
   "metadata": {},
   "outputs": [
    {
     "data": {
      "text/plain": [
       "array([[[0., 0., 0., 0.],\n",
       "        [0., 0., 0., 0.],\n",
       "        [0., 0., 0., 0.]],\n",
       "\n",
       "       [[0., 0., 0., 0.],\n",
       "        [0., 0., 0., 0.],\n",
       "        [0., 0., 0., 0.]]])"
      ]
     },
     "execution_count": 8,
     "metadata": {},
     "output_type": "execute_result"
    }
   ],
   "source": [
    "# array cuyos valores son todos 0\n",
    "np.zeros((2,3,4))"
   ]
  },
  {
   "cell_type": "code",
   "execution_count": 9,
   "id": "fff26ceb-f294-4157-86f9-8e290fa4e9f2",
   "metadata": {},
   "outputs": [
    {
     "data": {
      "text/plain": [
       "array([[[1., 1., 1., 1.],\n",
       "        [1., 1., 1., 1.],\n",
       "        [1., 1., 1., 1.]],\n",
       "\n",
       "       [[1., 1., 1., 1.],\n",
       "        [1., 1., 1., 1.],\n",
       "        [1., 1., 1., 1.]]])"
      ]
     },
     "execution_count": 9,
     "metadata": {},
     "output_type": "execute_result"
    }
   ],
   "source": [
    "# array cuyos valores son todos 1\n",
    "np.ones((2,3,4))"
   ]
  },
  {
   "cell_type": "code",
   "execution_count": 10,
   "id": "c1eef6b0-1fbd-4c9f-9709-a5da993f6b79",
   "metadata": {},
   "outputs": [
    {
     "data": {
      "text/plain": [
       "array([[[8, 8, 8, 8],\n",
       "        [8, 8, 8, 8],\n",
       "        [8, 8, 8, 8]],\n",
       "\n",
       "       [[8, 8, 8, 8],\n",
       "        [8, 8, 8, 8],\n",
       "        [8, 8, 8, 8]]])"
      ]
     },
     "execution_count": 10,
     "metadata": {},
     "output_type": "execute_result"
    }
   ],
   "source": [
    "# array cuyos valors son todos el valor indicado como segundo parámetro de la función\n",
    "np.full((2,3,4),8)"
   ]
  },
  {
   "cell_type": "code",
   "execution_count": 11,
   "id": "b4a6d49e-b340-48de-81ab-ae8e6b45bced",
   "metadata": {},
   "outputs": [
    {
     "data": {
      "text/plain": [
       "array([[[ 9.52478435e-312,  9.52458922e-312,  1.94167799e-321,\n",
       "          1.10814851e+193, -5.40379590e+274,  3.72589259e-304,\n",
       "          1.30380511e-309,  6.52000718e+091,  7.80085664e-283],\n",
       "        [ 7.88487278e+014,  1.43394064e-272, -4.74703083e+231,\n",
       "          3.65396427e-304,  1.30397686e-309,  1.33390818e+241,\n",
       "          6.95660667e-244,  6.61551762e+125, -3.34838130e+231],\n",
       "        [ 1.19062596e+001,  3.64667705e-304,  2.08086362e-236,\n",
       "          9.55662492e-297,  1.24007705e-302, -3.94346691e+231,\n",
       "          1.30378082e-309,  9.25906886e-299,  1.27204766e+193]],\n",
       "\n",
       "       [[-3.34838130e+231,  3.65215637e-304,  5.39322349e+067,\n",
       "          1.47936117e+005,  1.39118078e-263,  3.64667705e-304,\n",
       "          2.08087884e-236,  3.30335742e-254,  1.24007705e-302],\n",
       "        [-5.51951122e+231,  1.30378082e-309,  9.25906900e-299,\n",
       "          4.59250141e+024, -3.34838130e+231,  3.65927671e-304,\n",
       "          9.25906879e-299,  1.24007705e-302,  3.64667705e-304],\n",
       "        [ 9.25906879e-299,  1.24007705e-302,  3.64667705e-304,\n",
       "          9.25906879e-299,  1.24007705e-302,  3.64667705e-304,\n",
       "          9.25906879e-299, -2.36903033e-308,  1.53160350e-322]]])"
      ]
     },
     "execution_count": 11,
     "metadata": {},
     "output_type": "execute_result"
    }
   ],
   "source": [
    "# El resultado de np.empty no es predecible.\n",
    "# Inicializa los valores del array con lo que hay en memoria en ese momento.\n",
    "np.empty((2,3,9))"
   ]
  },
  {
   "cell_type": "code",
   "execution_count": 12,
   "id": "553dbc51-314a-4aac-a68f-bdfa7b345a71",
   "metadata": {},
   "outputs": [
    {
     "data": {
      "text/plain": [
       "array([[1, 2, 3],\n",
       "       [4, 5, 6]])"
      ]
     },
     "execution_count": 12,
     "metadata": {},
     "output_type": "execute_result"
    }
   ],
   "source": [
    "# Inicialización del array utilizando un array de Python\n",
    "b = np.array([[1, 2, 3], [4, 5, 6]])\n",
    "b"
   ]
  },
  {
   "cell_type": "code",
   "execution_count": 13,
   "id": "aa011bf6-ce9b-45c8-a478-59bd7e0fb08f",
   "metadata": {},
   "outputs": [
    {
     "name": "stdout",
     "output_type": "stream",
     "text": [
      "[0.         0.66666667 1.33333333 2.         2.66666667 3.33333333\n",
      " 4.         4.66666667 5.33333333 6.        ]\n"
     ]
    }
   ],
   "source": [
    "import numpy as np\n",
    "# Creación de un Arreglo utilizando una funcion basada en rangos\n",
    "# (minimo, máximo, número de elementos de arreglos)\n",
    "print (np.linspace(0,6,10))"
   ]
  },
  {
   "cell_type": "code",
   "execution_count": 14,
   "id": "6a826fb4-f86d-4db0-8e1a-a00726315646",
   "metadata": {},
   "outputs": [
    {
     "data": {
      "text/plain": [
       "array([[0.81910985, 0.60994042, 0.68771683, 0.5795508 ],\n",
       "       [0.13680421, 0.05552931, 0.79465196, 0.3268146 ]])"
      ]
     },
     "execution_count": 14,
     "metadata": {},
     "output_type": "execute_result"
    }
   ],
   "source": [
    "# Inicialización del arreglo con valores aleatorios \n",
    "np.random.rand(2,4)"
   ]
  },
  {
   "cell_type": "code",
   "execution_count": 15,
   "id": "8435a6cf-77ea-49a0-adab-af709934f8d5",
   "metadata": {},
   "outputs": [
    {
     "data": {
      "text/plain": [
       "array([[-0.94228692,  0.54721249, -1.20123919, -0.51299489],\n",
       "       [ 0.04229377,  0.31222126, -1.54725367,  0.67931648]])"
      ]
     },
     "execution_count": 15,
     "metadata": {},
     "output_type": "execute_result"
    }
   ],
   "source": [
    "# Inicializar un arreglo con valores aleatorios con forme a una distribución normal\n",
    "np.random.randn(2,4)"
   ]
  },
  {
   "cell_type": "code",
   "execution_count": 16,
   "id": "cedd60ef-18c5-49e3-b6c6-33400db720b0",
   "metadata": {},
   "outputs": [
    {
     "data": {
      "image/png": "[encoded data removed]",
      "text/plain": [
       "<Figure size 640x480 with 1 Axes>"
      ]
     },
     "metadata": {},
     "output_type": "display_data"
    }
   ],
   "source": [
    "%matplotlib inline\n",
    "import matplotlib.pyplot as plt\n",
    "\n",
    "c = np.random.randn(1000000)\n",
    "\n",
    "plt.hist(c, bins=200)\n",
    "plt.show()"
   ]
  },
  {
   "cell_type": "code",
   "execution_count": 17,
   "id": "6af49eb9-1e3e-45d9-8ce6-c48c3393fe8a",
   "metadata": {},
   "outputs": [
    {
     "data": {
      "text/plain": [
       "array([[ 0.,  2.,  4.,  6.,  8.],\n",
       "       [ 1.,  3.,  5.,  7.,  9.],\n",
       "       [ 2.,  4.,  6.,  8., 10.]])"
      ]
     },
     "execution_count": 17,
     "metadata": {},
     "output_type": "execute_result"
    }
   ],
   "source": [
    "# Incicializar un Arreglo utilizando una función personalizada\n",
    "def func(x, y):\n",
    "    return x + 2 * y\n",
    "\n",
    "np.fromfunction(func, (3,5))"
   ]
  },
  {
   "cell_type": "markdown",
   "id": "51ba37d7-20f7-4bca-865c-7d6c917874c4",
   "metadata": {},
   "source": [
    "## A cceso a los elementos de un Arreglo"
   ]
  },
  {
   "cell_type": "markdown",
   "id": "9599521b-dde7-4426-a5a9-0f8768396945",
   "metadata": {},
   "source": [
    "### Arreglo Unidimencional"
   ]
  },
  {
   "cell_type": "code",
   "execution_count": 18,
   "id": "044aba65-b0f3-430f-b7fa-027a958acb18",
   "metadata": {},
   "outputs": [
    {
     "name": "stdout",
     "output_type": "stream",
     "text": [
      "Shape: (6,)\n",
      "Array_uni: [ 1  3  5  7  9 11]\n"
     ]
    }
   ],
   "source": [
    "# Creación de un Array Unidimencional\n",
    "array_uni = np.array([1,3,5,7,9,11])\n",
    "print(\"Shape:\", array_uni.shape)\n",
    "print (\"Array_uni:\", array_uni)"
   ]
  },
  {
   "cell_type": "code",
   "execution_count": 19,
   "id": "1a0ed9ed-6b1f-4558-8034-6c8194b76765",
   "metadata": {},
   "outputs": [
    {
     "data": {
      "text/plain": [
       "9"
      ]
     },
     "execution_count": 19,
     "metadata": {},
     "output_type": "execute_result"
    }
   ],
   "source": [
    "# accediendo al quint elemento del arreglo\n",
    "array_uni[4]"
   ]
  },
  {
   "cell_type": "code",
   "execution_count": 20,
   "id": "16b0369c-f744-4952-a3fd-cf5e3973e8ae",
   "metadata": {},
   "outputs": [
    {
     "data": {
      "text/plain": [
       "array([5, 7])"
      ]
     },
     "execution_count": 20,
     "metadata": {},
     "output_type": "execute_result"
    }
   ],
   "source": [
    "# Accediendo al tercer y cuarto elemento del arreglo\n",
    "array_uni[2:4]"
   ]
  },
  {
   "cell_type": "code",
   "execution_count": 21,
   "id": "926d5976-6d6b-43c0-8496-43fa2c827c75",
   "metadata": {},
   "outputs": [
    {
     "data": {
      "text/plain": [
       "array([1, 5, 9])"
      ]
     },
     "execution_count": 21,
     "metadata": {},
     "output_type": "execute_result"
    }
   ],
   "source": [
    "# Accediendo a los elementos 0,3 y 5 del arreglo\n",
    "array_uni[0::2]"
   ]
  },
  {
   "cell_type": "markdown",
   "id": "716fc6f4-6105-4a97-a6f9-67df5814d4a0",
   "metadata": {},
   "source": [
    "# Arreglo Multidimencional"
   ]
  },
  {
   "cell_type": "code",
   "execution_count": 22,
   "id": "ef9ea906-7719-45e6-9915-7ed38ff01250",
   "metadata": {},
   "outputs": [
    {
     "name": "stdout",
     "output_type": "stream",
     "text": [
      "Sape: (2, 4)\n",
      "Array_multi:\n",
      " [[1 2 3 4]\n",
      " [5 6 7 8]]\n"
     ]
    }
   ],
   "source": [
    "# Creación de un arreglo multidimencional\n",
    "array_multi = np.array([[1,2,3,4],[5,6,7,8]])\n",
    "print(\"Sape:\",array_multi.shape)\n",
    "print(\"Array_multi:\\n\",array_multi)"
   ]
  },
  {
   "cell_type": "code",
   "execution_count": 23,
   "id": "080e15e3-7146-4c66-b878-ec3ab4c80379",
   "metadata": {},
   "outputs": [
    {
     "data": {
      "text/plain": [
       "4"
      ]
     },
     "execution_count": 23,
     "metadata": {},
     "output_type": "execute_result"
    }
   ],
   "source": [
    "# Acceder al cuarto elemento del arreglo \n",
    "array_multi[0,3]"
   ]
  },
  {
   "cell_type": "code",
   "execution_count": 24,
   "id": "7117389c-1e48-49e6-9469-6fdbba6a133e",
   "metadata": {},
   "outputs": [
    {
     "data": {
      "text/plain": [
       "array([5, 6, 7, 8])"
      ]
     },
     "execution_count": 24,
     "metadata": {},
     "output_type": "execute_result"
    }
   ],
   "source": [
    "#Accediaendo a la segunda fila del arrglo\n",
    "array_multi[1, :]"
   ]
  },
  {
   "cell_type": "code",
   "execution_count": 25,
   "id": "70bb0102-ca89-47e4-ab34-35f4d371b51e",
   "metadata": {},
   "outputs": [
    {
     "data": {
      "text/plain": [
       "array([3, 7])"
      ]
     },
     "execution_count": 25,
     "metadata": {},
     "output_type": "execute_result"
    }
   ],
   "source": [
    "#Accediendo al tercer elemnto de las dos primeras filas del arreglo\n",
    "array_multi[0:2, 2]"
   ]
  },
  {
   "cell_type": "markdown",
   "id": "9de309f9-40ba-4277-884b-7dfa1f18436d",
   "metadata": {},
   "source": [
    "### Modificación de un Arreglo"
   ]
  },
  {
   "cell_type": "code",
   "execution_count": 26,
   "id": "d3fb3d0a-61ad-4ab5-bf31-79a82addd587",
   "metadata": {},
   "outputs": [
    {
     "name": "stdout",
     "output_type": "stream",
     "text": [
      "Shape:  (28,)\n",
      "Array 1:  [ 0  1  2  3  4  5  6  7  8  9 10 11 12 13 14 15 16 17 18 19 20 21 22 23\n",
      " 24 25 26 27]\n"
     ]
    }
   ],
   "source": [
    "# Crear un arreglo inidimencional inicializandolo con el rango de elementos que va del 0-27\n",
    "array1 = np.arange(28)\n",
    "print(\"Shape: \", array1.shape)\n",
    "print(\"Array 1: \", array1)"
   ]
  },
  {
   "cell_type": "code",
   "execution_count": 27,
   "id": "854f5b07-94c8-41e6-99c8-8ae1db98770d",
   "metadata": {},
   "outputs": [
    {
     "name": "stdout",
     "output_type": "stream",
     "text": [
      "Shape:  (7, 4)\n",
      "Array 1:\n",
      "  [[ 0  1  2  3]\n",
      " [ 4  5  6  7]\n",
      " [ 8  9 10 11]\n",
      " [12 13 14 15]\n",
      " [16 17 18 19]\n",
      " [20 21 22 23]\n",
      " [24 25 26 27]]\n"
     ]
    }
   ],
   "source": [
    "# Cambiar las dimenciones del arreglo y sus longirudes\n",
    "array1.shape = (7, 4)\n",
    "print(\"Shape: \", array1.shape)\n",
    "print(\"Array 1:\\n \", array1)"
   ]
  },
  {
   "cell_type": "code",
   "execution_count": 28,
   "id": "18524de0-2a0b-4520-946b-db6c42f6e1b2",
   "metadata": {},
   "outputs": [
    {
     "name": "stdout",
     "output_type": "stream",
     "text": [
      "\n",
      " [[ 0  1  2  3]\n",
      " [ 4  5  6  7]\n",
      " [ 8  9 10 11]\n",
      " [12 13 14 15]\n",
      " [16 17 18 19]\n",
      " [20 21 22 23]\n",
      " [24 25 26 27]]\n",
      "Shape:  (4, 7)\n",
      "Array 2: \n",
      "  [[ 0  1  2  3  4  5  6]\n",
      " [ 7  8  9 10 11 12 13]\n",
      " [14 15 16 17 18 19 20]\n",
      " [21 22 23 24 25 26 27]]\n"
     ]
    }
   ],
   "source": [
    "# En el ejemplo anterior devuelve un nuevo array que apunta a los mismos datos \n",
    "# Importante: Modificaciones en un array, modifican el otro array\n",
    "\n",
    "print(\"\\n\",array1)\n",
    "array2 = array1.reshape(4, 7)\n",
    "print(\"Shape: \", array2.shape)\n",
    "print(\"Array 2: \\n \", array2)"
   ]
  },
  {
   "cell_type": "code",
   "execution_count": 29,
   "id": "35194ad9-5c23-411c-a795-3d9b6cdc282d",
   "metadata": {},
   "outputs": [
    {
     "name": "stdout",
     "output_type": "stream",
     "text": [
      "Array 2: \n",
      "  [[ 0  1  2 20  4  5  6]\n",
      " [ 7  8  9 10 11 12 13]\n",
      " [14 15 16 17 18 19 20]\n",
      " [21 22 23 24 25 26 27]]\n"
     ]
    }
   ],
   "source": [
    "# Modificador del nuevo array devuelto\n",
    "array2[0,3]= 20\n",
    "print(\"Array 2: \\n \", array2)"
   ]
  },
  {
   "cell_type": "code",
   "execution_count": 30,
   "id": "56fea283-5cce-4c39-9ca1-6860dfdcd7cb",
   "metadata": {},
   "outputs": [
    {
     "name": "stdout",
     "output_type": "stream",
     "text": [
      "Array1: \n",
      " [[ 0  1  2 20]\n",
      " [ 4  5  6  7]\n",
      " [ 8  9 10 11]\n",
      " [12 13 14 15]\n",
      " [16 17 18 19]\n",
      " [20 21 22 23]\n",
      " [24 25 26 27]]\n"
     ]
    }
   ],
   "source": [
    "print(\"Array1: \\n\", array1)"
   ]
  },
  {
   "cell_type": "code",
   "execution_count": 31,
   "id": "c826735a-88ca-402a-a278-e04c31f949af",
   "metadata": {},
   "outputs": [
    {
     "name": "stdout",
     "output_type": "stream",
     "text": [
      "Array1:  [ 0  1  2 20  4  5  6  7  8  9 10 11 12 13 14 15 16 17 18 19 20 21 22 23\n",
      " 24 25 26 27]\n"
     ]
    }
   ],
   "source": [
    "# Devuelve el arreglo devolviendo un nuevo arreglo de una sola dimencion\n",
    "# Importante: El nuevo array apunta a los mismos datos \n",
    "print(\"Array1: \", array1.ravel())"
   ]
  },
  {
   "cell_type": "markdown",
   "id": "d24695dc-1a7f-4eda-bff4-d715c2d7dac6",
   "metadata": {},
   "source": [
    "### Operaciones Aritmeticas con Arreglos"
   ]
  },
  {
   "cell_type": "code",
   "execution_count": 32,
   "id": "7bfa4ec4-d25f-42e1-8ab8-516a5fcf31c5",
   "metadata": {},
   "outputs": [
    {
     "name": "stdout",
     "output_type": "stream",
     "text": [
      "Array1: \n",
      " [ 2  4  6  8 10 12 14 16]\n",
      "Array2: \n",
      " [0 1 2 3 4 5 6 7]\n"
     ]
    }
   ],
   "source": [
    "# Crear un arreglo unidimencional\n",
    "array1 = np.arange(2, 18, 2)\n",
    "array2 = np.arange(8)\n",
    "print(\"Array1: \\n\", array1)\n",
    "print(\"Array2: \\n\", array2)"
   ]
  },
  {
   "cell_type": "code",
   "execution_count": 33,
   "id": "e8dddb38-8c95-4156-8c29-220105105477",
   "metadata": {},
   "outputs": [
    {
     "name": "stdout",
     "output_type": "stream",
     "text": [
      "[ 2  5  8 11 14 17 20 23]\n"
     ]
    }
   ],
   "source": [
    "# Suma\n",
    "print(array1 + array2)"
   ]
  },
  {
   "cell_type": "code",
   "execution_count": 34,
   "id": "8642a4a8-8e1f-4e41-82b0-7e3c6f2a273f",
   "metadata": {},
   "outputs": [
    {
     "name": "stdout",
     "output_type": "stream",
     "text": [
      "[2 3 4 5 6 7 8 9]\n"
     ]
    }
   ],
   "source": [
    "# Resta\n",
    "print(array1 - array2)"
   ]
  },
  {
   "cell_type": "code",
   "execution_count": 35,
   "id": "b62a397f-8304-4e86-9036-693ac92e6183",
   "metadata": {},
   "outputs": [
    {
     "name": "stdout",
     "output_type": "stream",
     "text": [
      "[  0   4  12  24  40  60  84 112]\n"
     ]
    }
   ],
   "source": [
    "# Multiplicación\n",
    "# Nota: No es una multiplicacion de matrices\n",
    "print(array1 * array2)"
   ]
  },
  {
   "cell_type": "markdown",
   "id": "96c2a4a3-3fa4-4263-8115-bb9079fe165a",
   "metadata": {},
   "source": [
    "### Broadcasting\n",
    "Si se aplican operaciones aritmeticas sobre arrays que no tienen la misma forma **(Shape)** Numpy aplica una propiedad que se denomina Broadcasting. "
   ]
  },
  {
   "cell_type": "code",
   "execution_count": 36,
   "id": "9edb6606-cc8b-423e-817a-b1982ae02c9b",
   "metadata": {},
   "outputs": [
    {
     "name": "stdout",
     "output_type": "stream",
     "text": [
      "Shape Array 1:  (5,)\n",
      "Array1:  [0 1 2 3 4]\n",
      "\n",
      "Shape Array 2:  (1,)\n",
      "Array2:  [3]\n"
     ]
    }
   ],
   "source": [
    "# Creacion de dos arreglos unidimenccionales\n",
    "array1 = np.arange(5)\n",
    "array2 = np.array([3])\n",
    "print(\"Shape Array 1: \", array1.shape)\n",
    "print(\"Array1: \", array1)\n",
    "print(\"\")\n",
    "print(\"Shape Array 2: \", array2.shape)\n",
    "print(\"Array2: \", array2)"
   ]
  },
  {
   "cell_type": "code",
   "execution_count": 37,
   "id": "698cf8a5-b09e-495b-a07e-ac68078f37f0",
   "metadata": {},
   "outputs": [
    {
     "data": {
      "text/plain": [
       "array([3, 4, 5, 6, 7])"
      ]
     },
     "execution_count": 37,
     "metadata": {},
     "output_type": "execute_result"
    }
   ],
   "source": [
    "# Suma de ambos arreglos\n",
    "array1+ array2"
   ]
  },
  {
   "cell_type": "markdown",
   "id": "a099e1f3-c9d0-4710-9d94-e8868442478e",
   "metadata": {},
   "source": [
    "### Funiones Estadisticas sobre Arreglos"
   ]
  },
  {
   "cell_type": "code",
   "execution_count": 39,
   "id": "39c0f509-6a2c-4c83-8fc4-b7c199a42d1f",
   "metadata": {},
   "outputs": [
    {
     "name": "stdout",
     "output_type": "stream",
     "text": [
      "Array 1:  [ 1  3  5  7  9 11 13 15 17 19]\n"
     ]
    }
   ],
   "source": [
    "# Creacion de un arreglo unidimencional\n",
    "array1 = np.arange(1, 20, 2)\n",
    "print(\"Array 1: \", array1)"
   ]
  },
  {
   "cell_type": "code",
   "execution_count": 40,
   "id": "a31bf547-3584-418a-97fd-3004d6f90d38",
   "metadata": {},
   "outputs": [
    {
     "data": {
      "text/plain": [
       "10.0"
      ]
     },
     "execution_count": 40,
     "metadata": {},
     "output_type": "execute_result"
    }
   ],
   "source": [
    "# Media de los elemntos de array\n",
    "array1.mean()"
   ]
  },
  {
   "cell_type": "code",
   "execution_count": 42,
   "id": "d3aab808-9946-4e5f-941d-640ebf80ef43",
   "metadata": {},
   "outputs": [
    {
     "data": {
      "text/plain": [
       "100"
      ]
     },
     "execution_count": 42,
     "metadata": {},
     "output_type": "execute_result"
    }
   ],
   "source": [
    "# Suma de los elemtos del array\n",
    "array1.sum()"
   ]
  },
  {
   "cell_type": "markdown",
   "id": "361b7b77-9a6d-418f-86ca-274da3239c99",
   "metadata": {},
   "source": [
    "#### Funciones universales proporcionadas por Numpy: **ufunc**"
   ]
  },
  {
   "cell_type": "code",
   "execution_count": 44,
   "id": "d5f2af38-a4a4-4f84-b155-7c2fd9cdfde7",
   "metadata": {},
   "outputs": [
    {
     "data": {
      "text/plain": [
       "array([  1,   9,  25,  49,  81, 121, 169, 225, 289, 361])"
      ]
     },
     "execution_count": 44,
     "metadata": {},
     "output_type": "execute_result"
    }
   ],
   "source": [
    "# Cuadrado de los elementos del arreglo\n",
    "np.square(array1)"
   ]
  },
  {
   "cell_type": "code",
   "execution_count": 45,
   "id": "b700ceab-18e2-4bd4-9adf-c9854bc1374c",
   "metadata": {},
   "outputs": [
    {
     "data": {
      "text/plain": [
       "array([1.        , 1.73205081, 2.23606798, 2.64575131, 3.        ,\n",
       "       3.31662479, 3.60555128, 3.87298335, 4.12310563, 4.35889894])"
      ]
     },
     "execution_count": 45,
     "metadata": {},
     "output_type": "execute_result"
    }
   ],
   "source": [
    "# Raiz cuadrada de los elementos del array\n",
    "np.sqrt(array1)"
   ]
  },
  {
   "cell_type": "code",
   "execution_count": 46,
   "id": "16216e0f-06ae-44b3-a8c5-f0053a81606d",
   "metadata": {},
   "outputs": [
    {
     "data": {
      "text/plain": [
       "array([2.71828183e+00, 2.00855369e+01, 1.48413159e+02, 1.09663316e+03,\n",
       "       8.10308393e+03, 5.98741417e+04, 4.42413392e+05, 3.26901737e+06,\n",
       "       2.41549528e+07, 1.78482301e+08])"
      ]
     },
     "execution_count": 46,
     "metadata": {},
     "output_type": "execute_result"
    }
   ],
   "source": [
    "# Exponencial de los elementos de un arreglo\n",
    "np.exp(array1)"
   ]
  },
  {
   "cell_type": "code",
   "execution_count": 47,
   "id": "ddbf0b1b-ee49-49c9-83cb-7f8cfca700e1",
   "metadata": {},
   "outputs": [
    {
     "data": {
      "text/plain": [
       "array([0.        , 1.09861229, 1.60943791, 1.94591015, 2.19722458,\n",
       "       2.39789527, 2.56494936, 2.7080502 , 2.83321334, 2.94443898])"
      ]
     },
     "execution_count": 47,
     "metadata": {},
     "output_type": "execute_result"
    }
   ],
   "source": [
    "#  El logaritmo natural de los elementos de arreglo\n",
    "np.log(array1)"
   ]
  },
  {
   "cell_type": "code",
   "execution_count": null,
   "id": "616524df-d3e5-460b-a835-f03f3f5a0b79",
   "metadata": {},
   "outputs": [],
   "source": []
  }
 ],
 "metadata": {
  "kernelspec": {
   "display_name": "Python 3 (ipykernel)",
   "language": "python",
   "name": "python3"
  },
  "language_info": {
   "codemirror_mode": {
    "name": "ipython",
    "version": 3
   },
   "file_extension": ".py",
   "mimetype": "text/x-python",
   "name": "python",
   "nbconvert_exporter": "python",
   "pygments_lexer": "ipython3",
   "version": "3.11.7"
  }
 },
 "nbformat": 4,
 "nbformat_minor": 5
}
